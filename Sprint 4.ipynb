{
 "cells": [
  {
   "cell_type": "markdown",
   "metadata": {
    "id": "3rYiDeEH0q0f"
   },
   "source": [
    "# ¿Cuál es la mejor tarifa?\n",
    "\n",
    "Trabajamos como analista para el operador de telecomunicaciones Megaline. La empresa ofrece a sus clientes dos tarifas de prepago, Surf y Ultimate. El departamento comercial quiere saber cuál de las tarifas genera más ingresos para poder ajustar el presupuesto de publicidad.\n",
    "\n",
    "Vas a realizar un análisis preliminar de las tarifas basado en una selección de clientes relativamente pequeña. Tendrás los datos de 500 clientes de Megaline: quiénes son los clientes, de dónde son, qué tarifa usan, así como la cantidad de llamadas que hicieron y los mensajes de texto que enviaron en 2018. Tu trabajo es analizar el comportamiento de los clientes y determinar qué tarifa de prepago genera más ingresos."
   ]
  },
  {
   "cell_type": "markdown",
   "metadata": {
    "id": "MQi4IPy70q0y"
   },
   "source": [
    "## Inicialización"
   ]
  },
  {
   "cell_type": "code",
   "execution_count": 1,
   "metadata": {
    "id": "MtYIuBxu0q0z"
   },
   "outputs": [],
   "source": [
    "# Cargar todas las librerías\n",
    "import pandas as pd\n",
    "import matplotlib.pyplot as plt\n",
    "import numpy as np\n",
    "from scipy import stats as st"
   ]
  },
  {
   "cell_type": "markdown",
   "metadata": {
    "id": "4ysWWC5i0q00"
   },
   "source": [
    "## Cargar datos"
   ]
  },
  {
   "cell_type": "code",
   "execution_count": 2,
   "metadata": {
    "id": "CCqPW7rS0q01"
   },
   "outputs": [],
   "source": [
    "# Carga los archivos de datos en diferentes DataFrames\n",
    "df_calls=pd.read_csv(\"/datasets/megaline_calls.csv\")\n",
    "df_internet=pd.read_csv(\"/datasets/megaline_internet.csv\")\n",
    "df_messages=pd.read_csv(\"/datasets/megaline_messages.csv\")\n",
    "df_plans=pd.read_csv(\"/datasets/megaline_plans.csv\")\n",
    "df_users=pd.read_csv(\"/datasets/megaline_users.csv\")"
   ]
  },
  {
   "cell_type": "markdown",
   "metadata": {
    "id": "69qqoJ3r0q01"
   },
   "source": [
    "## Preparar los datos"
   ]
  },
  {
   "cell_type": "markdown",
   "metadata": {
    "id": "ohBhimvH0q01"
   },
   "source": [
    "## Tarifas"
   ]
  },
  {
   "cell_type": "code",
   "execution_count": 3,
   "metadata": {
    "id": "GptqP3Q40q02"
   },
   "outputs": [
    {
     "name": "stdout",
     "output_type": "stream",
     "text": [
      "<class 'pandas.core.frame.DataFrame'>\n",
      "RangeIndex: 2 entries, 0 to 1\n",
      "Data columns (total 8 columns):\n",
      " #   Column                 Non-Null Count  Dtype  \n",
      "---  ------                 --------------  -----  \n",
      " 0   messages_included      2 non-null      int64  \n",
      " 1   mb_per_month_included  2 non-null      int64  \n",
      " 2   minutes_included       2 non-null      int64  \n",
      " 3   usd_monthly_pay        2 non-null      int64  \n",
      " 4   usd_per_gb             2 non-null      int64  \n",
      " 5   usd_per_message        2 non-null      float64\n",
      " 6   usd_per_minute         2 non-null      float64\n",
      " 7   plan_name              2 non-null      object \n",
      "dtypes: float64(2), int64(5), object(1)\n",
      "memory usage: 256.0+ bytes\n"
     ]
    }
   ],
   "source": [
    "# Imprime la información general/resumida sobre el DataFrame de las tarifas\n",
    "df_plans.info()\n"
   ]
  },
  {
   "cell_type": "code",
   "execution_count": 4,
   "metadata": {
    "id": "64xzjwL70q02"
   },
   "outputs": [
    {
     "data": {
      "text/html": [
       "<div>\n",
       "<style scoped>\n",
       "    .dataframe tbody tr th:only-of-type {\n",
       "        vertical-align: middle;\n",
       "    }\n",
       "\n",
       "    .dataframe tbody tr th {\n",
       "        vertical-align: top;\n",
       "    }\n",
       "\n",
       "    .dataframe thead th {\n",
       "        text-align: right;\n",
       "    }\n",
       "</style>\n",
       "<table border=\"1\" class=\"dataframe\">\n",
       "  <thead>\n",
       "    <tr style=\"text-align: right;\">\n",
       "      <th></th>\n",
       "      <th>messages_included</th>\n",
       "      <th>mb_per_month_included</th>\n",
       "      <th>minutes_included</th>\n",
       "      <th>usd_monthly_pay</th>\n",
       "      <th>usd_per_gb</th>\n",
       "      <th>usd_per_message</th>\n",
       "      <th>usd_per_minute</th>\n",
       "      <th>plan_name</th>\n",
       "    </tr>\n",
       "  </thead>\n",
       "  <tbody>\n",
       "    <tr>\n",
       "      <th>0</th>\n",
       "      <td>50</td>\n",
       "      <td>15360</td>\n",
       "      <td>500</td>\n",
       "      <td>20</td>\n",
       "      <td>10</td>\n",
       "      <td>0.03</td>\n",
       "      <td>0.03</td>\n",
       "      <td>surf</td>\n",
       "    </tr>\n",
       "    <tr>\n",
       "      <th>1</th>\n",
       "      <td>1000</td>\n",
       "      <td>30720</td>\n",
       "      <td>3000</td>\n",
       "      <td>70</td>\n",
       "      <td>7</td>\n",
       "      <td>0.01</td>\n",
       "      <td>0.01</td>\n",
       "      <td>ultimate</td>\n",
       "    </tr>\n",
       "  </tbody>\n",
       "</table>\n",
       "</div>"
      ],
      "text/plain": [
       "   messages_included  mb_per_month_included  minutes_included  \\\n",
       "0                 50                  15360               500   \n",
       "1               1000                  30720              3000   \n",
       "\n",
       "   usd_monthly_pay  usd_per_gb  usd_per_message  usd_per_minute plan_name  \n",
       "0               20          10             0.03            0.03      surf  \n",
       "1               70           7             0.01            0.01  ultimate  "
      ]
     },
     "execution_count": 4,
     "metadata": {},
     "output_type": "execute_result"
    }
   ],
   "source": [
    "# Imprime una muestra de los datos para las tarifas\n",
    "df_plans.head()\n"
   ]
  },
  {
   "cell_type": "markdown",
   "metadata": {
    "id": "mEc_3_hs0q02"
   },
   "source": [
    "\n",
    "\n",
    "No veo ningun problema, los tipos de datos coinciden bien, no hay datos ausentes tampoco, no es necesario hacer cambios generales.\n",
    "\n"
   ]
  },
  {
   "cell_type": "markdown",
   "metadata": {
    "id": "1n2X6WXf0q04"
   },
   "source": [
    "## Usuarios/as"
   ]
  },
  {
   "cell_type": "code",
   "execution_count": 5,
   "metadata": {
    "id": "2NgjWFqx0q05"
   },
   "outputs": [
    {
     "name": "stdout",
     "output_type": "stream",
     "text": [
      "<class 'pandas.core.frame.DataFrame'>\n",
      "RangeIndex: 500 entries, 0 to 499\n",
      "Data columns (total 8 columns):\n",
      " #   Column      Non-Null Count  Dtype \n",
      "---  ------      --------------  ----- \n",
      " 0   user_id     500 non-null    int64 \n",
      " 1   first_name  500 non-null    object\n",
      " 2   last_name   500 non-null    object\n",
      " 3   age         500 non-null    int64 \n",
      " 4   city        500 non-null    object\n",
      " 5   reg_date    500 non-null    object\n",
      " 6   plan        500 non-null    object\n",
      " 7   churn_date  34 non-null     object\n",
      "dtypes: int64(2), object(6)\n",
      "memory usage: 31.4+ KB\n"
     ]
    }
   ],
   "source": [
    "# Imprime la información general/resumida sobre el DataFrame de usuarios\n",
    "df_users.info()"
   ]
  },
  {
   "cell_type": "code",
   "execution_count": 6,
   "metadata": {
    "id": "1IN1L9uh0q05"
   },
   "outputs": [
    {
     "data": {
      "text/html": [
       "<div>\n",
       "<style scoped>\n",
       "    .dataframe tbody tr th:only-of-type {\n",
       "        vertical-align: middle;\n",
       "    }\n",
       "\n",
       "    .dataframe tbody tr th {\n",
       "        vertical-align: top;\n",
       "    }\n",
       "\n",
       "    .dataframe thead th {\n",
       "        text-align: right;\n",
       "    }\n",
       "</style>\n",
       "<table border=\"1\" class=\"dataframe\">\n",
       "  <thead>\n",
       "    <tr style=\"text-align: right;\">\n",
       "      <th></th>\n",
       "      <th>user_id</th>\n",
       "      <th>first_name</th>\n",
       "      <th>last_name</th>\n",
       "      <th>age</th>\n",
       "      <th>city</th>\n",
       "      <th>reg_date</th>\n",
       "      <th>plan</th>\n",
       "      <th>churn_date</th>\n",
       "    </tr>\n",
       "  </thead>\n",
       "  <tbody>\n",
       "    <tr>\n",
       "      <th>0</th>\n",
       "      <td>1000</td>\n",
       "      <td>Anamaria</td>\n",
       "      <td>Bauer</td>\n",
       "      <td>45</td>\n",
       "      <td>Atlanta-Sandy Springs-Roswell, GA MSA</td>\n",
       "      <td>2018-12-24</td>\n",
       "      <td>ultimate</td>\n",
       "      <td>NaN</td>\n",
       "    </tr>\n",
       "    <tr>\n",
       "      <th>1</th>\n",
       "      <td>1001</td>\n",
       "      <td>Mickey</td>\n",
       "      <td>Wilkerson</td>\n",
       "      <td>28</td>\n",
       "      <td>Seattle-Tacoma-Bellevue, WA MSA</td>\n",
       "      <td>2018-08-13</td>\n",
       "      <td>surf</td>\n",
       "      <td>NaN</td>\n",
       "    </tr>\n",
       "    <tr>\n",
       "      <th>2</th>\n",
       "      <td>1002</td>\n",
       "      <td>Carlee</td>\n",
       "      <td>Hoffman</td>\n",
       "      <td>36</td>\n",
       "      <td>Las Vegas-Henderson-Paradise, NV MSA</td>\n",
       "      <td>2018-10-21</td>\n",
       "      <td>surf</td>\n",
       "      <td>NaN</td>\n",
       "    </tr>\n",
       "    <tr>\n",
       "      <th>3</th>\n",
       "      <td>1003</td>\n",
       "      <td>Reynaldo</td>\n",
       "      <td>Jenkins</td>\n",
       "      <td>52</td>\n",
       "      <td>Tulsa, OK MSA</td>\n",
       "      <td>2018-01-28</td>\n",
       "      <td>surf</td>\n",
       "      <td>NaN</td>\n",
       "    </tr>\n",
       "    <tr>\n",
       "      <th>4</th>\n",
       "      <td>1004</td>\n",
       "      <td>Leonila</td>\n",
       "      <td>Thompson</td>\n",
       "      <td>40</td>\n",
       "      <td>Seattle-Tacoma-Bellevue, WA MSA</td>\n",
       "      <td>2018-05-23</td>\n",
       "      <td>surf</td>\n",
       "      <td>NaN</td>\n",
       "    </tr>\n",
       "  </tbody>\n",
       "</table>\n",
       "</div>"
      ],
      "text/plain": [
       "   user_id first_name  last_name  age                                   city  \\\n",
       "0     1000   Anamaria      Bauer   45  Atlanta-Sandy Springs-Roswell, GA MSA   \n",
       "1     1001     Mickey  Wilkerson   28        Seattle-Tacoma-Bellevue, WA MSA   \n",
       "2     1002     Carlee    Hoffman   36   Las Vegas-Henderson-Paradise, NV MSA   \n",
       "3     1003   Reynaldo    Jenkins   52                          Tulsa, OK MSA   \n",
       "4     1004    Leonila   Thompson   40        Seattle-Tacoma-Bellevue, WA MSA   \n",
       "\n",
       "     reg_date      plan churn_date  \n",
       "0  2018-12-24  ultimate        NaN  \n",
       "1  2018-08-13      surf        NaN  \n",
       "2  2018-10-21      surf        NaN  \n",
       "3  2018-01-28      surf        NaN  \n",
       "4  2018-05-23      surf        NaN  "
      ]
     },
     "execution_count": 6,
     "metadata": {},
     "output_type": "execute_result"
    }
   ],
   "source": [
    "# Imprime una muestra de datos para usuarios\n",
    "df_users.head()\n"
   ]
  },
  {
   "cell_type": "markdown",
   "metadata": {
    "id": "dCZoUq4f0q06"
   },
   "source": [
    "\n",
    "No hay nada que corregir, lo que podemos hacer es que la columna \"churn_date\" remplazaremos los datos ausentes por un String que sera \"using\""
   ]
  },
  {
   "cell_type": "markdown",
   "metadata": {
    "id": "BX5FQh_I0q06"
   },
   "source": [
    "### Corregir los datos"
   ]
  },
  {
   "cell_type": "code",
   "execution_count": 7,
   "metadata": {
    "id": "yUqX-K0C0q07"
   },
   "outputs": [],
   "source": [
    "#Transformamos las fechas\n",
    "df_users[\"reg_date\"]= pd.to_datetime(df_users[\"reg_date\"], format=\"%Y-%m-%d\")\n",
    "df_users[\"churn_date\"] = pd.to_datetime(df_users[\"churn_date\"], format=\"%Y-%m-%d\")"
   ]
  },
  {
   "cell_type": "markdown",
   "metadata": {
    "id": "ycwuARJp0q07"
   },
   "source": [
    "### Enriquecer los datos"
   ]
  },
  {
   "cell_type": "code",
   "execution_count": 8,
   "metadata": {
    "id": "iq0AaBS90q08"
   },
   "outputs": [
    {
     "name": "stdout",
     "output_type": "stream",
     "text": [
      "<class 'pandas.core.frame.DataFrame'>\n",
      "RangeIndex: 500 entries, 0 to 499\n",
      "Data columns (total 8 columns):\n",
      " #   Column      Non-Null Count  Dtype         \n",
      "---  ------      --------------  -----         \n",
      " 0   user_id     500 non-null    int64         \n",
      " 1   first_name  500 non-null    object        \n",
      " 2   last_name   500 non-null    object        \n",
      " 3   age         500 non-null    int64         \n",
      " 4   city        500 non-null    object        \n",
      " 5   reg_date    500 non-null    datetime64[ns]\n",
      " 6   plan        500 non-null    object        \n",
      " 7   churn_date  34 non-null     datetime64[ns]\n",
      "dtypes: datetime64[ns](2), int64(2), object(4)\n",
      "memory usage: 31.4+ KB\n"
     ]
    }
   ],
   "source": [
    "#No eliminaremos los datos ausentes ya que le quitaria la propiedad de datetime a la columna churn_date\n",
    "df_users.info()"
   ]
  },
  {
   "cell_type": "markdown",
   "metadata": {
    "id": "o7MeKCid0q08"
   },
   "source": [
    "## Llamadas"
   ]
  },
  {
   "cell_type": "code",
   "execution_count": 9,
   "metadata": {
    "id": "6dDlnoDm0q08"
   },
   "outputs": [
    {
     "name": "stdout",
     "output_type": "stream",
     "text": [
      "<class 'pandas.core.frame.DataFrame'>\n",
      "RangeIndex: 137735 entries, 0 to 137734\n",
      "Data columns (total 4 columns):\n",
      " #   Column     Non-Null Count   Dtype  \n",
      "---  ------     --------------   -----  \n",
      " 0   id         137735 non-null  object \n",
      " 1   user_id    137735 non-null  int64  \n",
      " 2   call_date  137735 non-null  object \n",
      " 3   duration   137735 non-null  float64\n",
      "dtypes: float64(1), int64(1), object(2)\n",
      "memory usage: 4.2+ MB\n"
     ]
    }
   ],
   "source": [
    "# Imprime la información general/resumida sobre el DataFrame de las llamadas\n",
    "df_calls.info()\n"
   ]
  },
  {
   "cell_type": "code",
   "execution_count": 10,
   "metadata": {
    "id": "kuh1vlNB0q09"
   },
   "outputs": [
    {
     "data": {
      "text/html": [
       "<div>\n",
       "<style scoped>\n",
       "    .dataframe tbody tr th:only-of-type {\n",
       "        vertical-align: middle;\n",
       "    }\n",
       "\n",
       "    .dataframe tbody tr th {\n",
       "        vertical-align: top;\n",
       "    }\n",
       "\n",
       "    .dataframe thead th {\n",
       "        text-align: right;\n",
       "    }\n",
       "</style>\n",
       "<table border=\"1\" class=\"dataframe\">\n",
       "  <thead>\n",
       "    <tr style=\"text-align: right;\">\n",
       "      <th></th>\n",
       "      <th>id</th>\n",
       "      <th>user_id</th>\n",
       "      <th>call_date</th>\n",
       "      <th>duration</th>\n",
       "    </tr>\n",
       "  </thead>\n",
       "  <tbody>\n",
       "    <tr>\n",
       "      <th>0</th>\n",
       "      <td>1000_93</td>\n",
       "      <td>1000</td>\n",
       "      <td>2018-12-27</td>\n",
       "      <td>8.52</td>\n",
       "    </tr>\n",
       "    <tr>\n",
       "      <th>1</th>\n",
       "      <td>1000_145</td>\n",
       "      <td>1000</td>\n",
       "      <td>2018-12-27</td>\n",
       "      <td>13.66</td>\n",
       "    </tr>\n",
       "    <tr>\n",
       "      <th>2</th>\n",
       "      <td>1000_247</td>\n",
       "      <td>1000</td>\n",
       "      <td>2018-12-27</td>\n",
       "      <td>14.48</td>\n",
       "    </tr>\n",
       "    <tr>\n",
       "      <th>3</th>\n",
       "      <td>1000_309</td>\n",
       "      <td>1000</td>\n",
       "      <td>2018-12-28</td>\n",
       "      <td>5.76</td>\n",
       "    </tr>\n",
       "    <tr>\n",
       "      <th>4</th>\n",
       "      <td>1000_380</td>\n",
       "      <td>1000</td>\n",
       "      <td>2018-12-30</td>\n",
       "      <td>4.22</td>\n",
       "    </tr>\n",
       "  </tbody>\n",
       "</table>\n",
       "</div>"
      ],
      "text/plain": [
       "         id  user_id   call_date  duration\n",
       "0   1000_93     1000  2018-12-27      8.52\n",
       "1  1000_145     1000  2018-12-27     13.66\n",
       "2  1000_247     1000  2018-12-27     14.48\n",
       "3  1000_309     1000  2018-12-28      5.76\n",
       "4  1000_380     1000  2018-12-30      4.22"
      ]
     },
     "execution_count": 10,
     "metadata": {},
     "output_type": "execute_result"
    }
   ],
   "source": [
    "# Imprime una muestra de datos para las llamadas\n",
    "df_calls.head()"
   ]
  },
  {
   "cell_type": "markdown",
   "metadata": {
    "id": "DOAxYJSx0q09"
   },
   "source": [
    "\n",
    "No es necesario"
   ]
  },
  {
   "cell_type": "markdown",
   "metadata": {
    "id": "S7hzxmbX0q0-"
   },
   "source": [
    "### Corregir los datos"
   ]
  },
  {
   "cell_type": "code",
   "execution_count": 11,
   "metadata": {
    "id": "S2r8xA4f0q0-"
   },
   "outputs": [],
   "source": [
    "#Transformamos las fechas\n",
    "df_calls[\"call_date\"]= pd.to_datetime(df_calls[\"call_date\"], format=\"%Y-%m-%d\")"
   ]
  },
  {
   "cell_type": "markdown",
   "metadata": {
    "id": "mOUZSi180q0_"
   },
   "source": [
    "## Mensajes"
   ]
  },
  {
   "cell_type": "code",
   "execution_count": 12,
   "metadata": {
    "id": "R-bYJpdV0q1A"
   },
   "outputs": [
    {
     "name": "stdout",
     "output_type": "stream",
     "text": [
      "<class 'pandas.core.frame.DataFrame'>\n",
      "RangeIndex: 76051 entries, 0 to 76050\n",
      "Data columns (total 3 columns):\n",
      " #   Column        Non-Null Count  Dtype \n",
      "---  ------        --------------  ----- \n",
      " 0   id            76051 non-null  object\n",
      " 1   user_id       76051 non-null  int64 \n",
      " 2   message_date  76051 non-null  object\n",
      "dtypes: int64(1), object(2)\n",
      "memory usage: 1.7+ MB\n"
     ]
    }
   ],
   "source": [
    "# Imprime la información general/resumida sobre el DataFrame de los mensajes\n",
    "df_messages.info()"
   ]
  },
  {
   "cell_type": "code",
   "execution_count": 13,
   "metadata": {
    "id": "mCEl2iGE0q1A"
   },
   "outputs": [
    {
     "data": {
      "text/html": [
       "<div>\n",
       "<style scoped>\n",
       "    .dataframe tbody tr th:only-of-type {\n",
       "        vertical-align: middle;\n",
       "    }\n",
       "\n",
       "    .dataframe tbody tr th {\n",
       "        vertical-align: top;\n",
       "    }\n",
       "\n",
       "    .dataframe thead th {\n",
       "        text-align: right;\n",
       "    }\n",
       "</style>\n",
       "<table border=\"1\" class=\"dataframe\">\n",
       "  <thead>\n",
       "    <tr style=\"text-align: right;\">\n",
       "      <th></th>\n",
       "      <th>id</th>\n",
       "      <th>user_id</th>\n",
       "      <th>message_date</th>\n",
       "    </tr>\n",
       "  </thead>\n",
       "  <tbody>\n",
       "    <tr>\n",
       "      <th>0</th>\n",
       "      <td>1000_125</td>\n",
       "      <td>1000</td>\n",
       "      <td>2018-12-27</td>\n",
       "    </tr>\n",
       "    <tr>\n",
       "      <th>1</th>\n",
       "      <td>1000_160</td>\n",
       "      <td>1000</td>\n",
       "      <td>2018-12-31</td>\n",
       "    </tr>\n",
       "    <tr>\n",
       "      <th>2</th>\n",
       "      <td>1000_223</td>\n",
       "      <td>1000</td>\n",
       "      <td>2018-12-31</td>\n",
       "    </tr>\n",
       "    <tr>\n",
       "      <th>3</th>\n",
       "      <td>1000_251</td>\n",
       "      <td>1000</td>\n",
       "      <td>2018-12-27</td>\n",
       "    </tr>\n",
       "    <tr>\n",
       "      <th>4</th>\n",
       "      <td>1000_255</td>\n",
       "      <td>1000</td>\n",
       "      <td>2018-12-26</td>\n",
       "    </tr>\n",
       "  </tbody>\n",
       "</table>\n",
       "</div>"
      ],
      "text/plain": [
       "         id  user_id message_date\n",
       "0  1000_125     1000   2018-12-27\n",
       "1  1000_160     1000   2018-12-31\n",
       "2  1000_223     1000   2018-12-31\n",
       "3  1000_251     1000   2018-12-27\n",
       "4  1000_255     1000   2018-12-26"
      ]
     },
     "execution_count": 13,
     "metadata": {},
     "output_type": "execute_result"
    }
   ],
   "source": [
    "# Imprime una muestra de datos para los mensajes\n",
    "df_messages.head()\n"
   ]
  },
  {
   "cell_type": "markdown",
   "metadata": {
    "id": "04xDj7KH0q1A"
   },
   "source": [
    "No es necesario corregir"
   ]
  },
  {
   "cell_type": "markdown",
   "metadata": {
    "id": "Sprfak900q1B"
   },
   "source": [
    "### Corregir los datos"
   ]
  },
  {
   "cell_type": "code",
   "execution_count": 14,
   "metadata": {
    "id": "vsllvkoa0q1B"
   },
   "outputs": [],
   "source": [
    "#Transformamos las fechas\n",
    "df_messages[\"message_date\"]= pd.to_datetime(df_messages[\"message_date\"], format=\"%Y-%m-%d\")"
   ]
  },
  {
   "cell_type": "markdown",
   "metadata": {
    "id": "bStkaxn40q1C"
   },
   "source": [
    "## Internet"
   ]
  },
  {
   "cell_type": "code",
   "execution_count": 15,
   "metadata": {
    "id": "e-Uz5qyn0q1C"
   },
   "outputs": [
    {
     "name": "stdout",
     "output_type": "stream",
     "text": [
      "<class 'pandas.core.frame.DataFrame'>\n",
      "RangeIndex: 104825 entries, 0 to 104824\n",
      "Data columns (total 4 columns):\n",
      " #   Column        Non-Null Count   Dtype  \n",
      "---  ------        --------------   -----  \n",
      " 0   id            104825 non-null  object \n",
      " 1   user_id       104825 non-null  int64  \n",
      " 2   session_date  104825 non-null  object \n",
      " 3   mb_used       104825 non-null  float64\n",
      "dtypes: float64(1), int64(1), object(2)\n",
      "memory usage: 3.2+ MB\n"
     ]
    }
   ],
   "source": [
    "# Imprime la información general/resumida sobre el DataFrame de internet\n",
    "df_internet.info()\n"
   ]
  },
  {
   "cell_type": "code",
   "execution_count": 16,
   "metadata": {
    "id": "9r3x_XLw0q1C"
   },
   "outputs": [
    {
     "data": {
      "text/html": [
       "<div>\n",
       "<style scoped>\n",
       "    .dataframe tbody tr th:only-of-type {\n",
       "        vertical-align: middle;\n",
       "    }\n",
       "\n",
       "    .dataframe tbody tr th {\n",
       "        vertical-align: top;\n",
       "    }\n",
       "\n",
       "    .dataframe thead th {\n",
       "        text-align: right;\n",
       "    }\n",
       "</style>\n",
       "<table border=\"1\" class=\"dataframe\">\n",
       "  <thead>\n",
       "    <tr style=\"text-align: right;\">\n",
       "      <th></th>\n",
       "      <th>id</th>\n",
       "      <th>user_id</th>\n",
       "      <th>session_date</th>\n",
       "      <th>mb_used</th>\n",
       "    </tr>\n",
       "  </thead>\n",
       "  <tbody>\n",
       "    <tr>\n",
       "      <th>0</th>\n",
       "      <td>1000_13</td>\n",
       "      <td>1000</td>\n",
       "      <td>2018-12-29</td>\n",
       "      <td>89.86</td>\n",
       "    </tr>\n",
       "    <tr>\n",
       "      <th>1</th>\n",
       "      <td>1000_204</td>\n",
       "      <td>1000</td>\n",
       "      <td>2018-12-31</td>\n",
       "      <td>0.00</td>\n",
       "    </tr>\n",
       "    <tr>\n",
       "      <th>2</th>\n",
       "      <td>1000_379</td>\n",
       "      <td>1000</td>\n",
       "      <td>2018-12-28</td>\n",
       "      <td>660.40</td>\n",
       "    </tr>\n",
       "    <tr>\n",
       "      <th>3</th>\n",
       "      <td>1000_413</td>\n",
       "      <td>1000</td>\n",
       "      <td>2018-12-26</td>\n",
       "      <td>270.99</td>\n",
       "    </tr>\n",
       "    <tr>\n",
       "      <th>4</th>\n",
       "      <td>1000_442</td>\n",
       "      <td>1000</td>\n",
       "      <td>2018-12-27</td>\n",
       "      <td>880.22</td>\n",
       "    </tr>\n",
       "  </tbody>\n",
       "</table>\n",
       "</div>"
      ],
      "text/plain": [
       "         id  user_id session_date  mb_used\n",
       "0   1000_13     1000   2018-12-29    89.86\n",
       "1  1000_204     1000   2018-12-31     0.00\n",
       "2  1000_379     1000   2018-12-28   660.40\n",
       "3  1000_413     1000   2018-12-26   270.99\n",
       "4  1000_442     1000   2018-12-27   880.22"
      ]
     },
     "execution_count": 16,
     "metadata": {},
     "output_type": "execute_result"
    }
   ],
   "source": [
    "# Imprime una muestra de datos para el tráfico de internet\n",
    "df_internet.head()\n"
   ]
  },
  {
   "cell_type": "markdown",
   "metadata": {
    "id": "EzOG5ik30q1D"
   },
   "source": [
    "Podemos notar que hay un mensaje que no uso MB, pero fuera de esto todo esta bien."
   ]
  },
  {
   "cell_type": "markdown",
   "metadata": {
    "id": "yA0tkPFg0q1D"
   },
   "source": [
    "### Corregir los datos"
   ]
  },
  {
   "cell_type": "code",
   "execution_count": 17,
   "metadata": {
    "id": "zVeanzdd0q1E"
   },
   "outputs": [],
   "source": [
    "#Transformamos las fechas\n",
    "df_internet[\"session_date\"]= pd.to_datetime(df_internet[\"session_date\"], format=\"%Y-%m-%d\")"
   ]
  },
  {
   "cell_type": "markdown",
   "metadata": {
    "id": "3UA2cqIW0q1E"
   },
   "source": [
    "## Estudiar las condiciones de las tarifas"
   ]
  },
  {
   "cell_type": "code",
   "execution_count": 18,
   "metadata": {
    "id": "i409op8p0q1F"
   },
   "outputs": [
    {
     "data": {
      "text/html": [
       "<div>\n",
       "<style scoped>\n",
       "    .dataframe tbody tr th:only-of-type {\n",
       "        vertical-align: middle;\n",
       "    }\n",
       "\n",
       "    .dataframe tbody tr th {\n",
       "        vertical-align: top;\n",
       "    }\n",
       "\n",
       "    .dataframe thead th {\n",
       "        text-align: right;\n",
       "    }\n",
       "</style>\n",
       "<table border=\"1\" class=\"dataframe\">\n",
       "  <thead>\n",
       "    <tr style=\"text-align: right;\">\n",
       "      <th></th>\n",
       "      <th>messages_included</th>\n",
       "      <th>mb_per_month_included</th>\n",
       "      <th>minutes_included</th>\n",
       "      <th>usd_monthly_pay</th>\n",
       "      <th>usd_per_gb</th>\n",
       "      <th>usd_per_message</th>\n",
       "      <th>usd_per_minute</th>\n",
       "      <th>plan_name</th>\n",
       "    </tr>\n",
       "  </thead>\n",
       "  <tbody>\n",
       "    <tr>\n",
       "      <th>0</th>\n",
       "      <td>50</td>\n",
       "      <td>15360</td>\n",
       "      <td>500</td>\n",
       "      <td>20</td>\n",
       "      <td>10</td>\n",
       "      <td>0.03</td>\n",
       "      <td>0.03</td>\n",
       "      <td>surf</td>\n",
       "    </tr>\n",
       "    <tr>\n",
       "      <th>1</th>\n",
       "      <td>1000</td>\n",
       "      <td>30720</td>\n",
       "      <td>3000</td>\n",
       "      <td>70</td>\n",
       "      <td>7</td>\n",
       "      <td>0.01</td>\n",
       "      <td>0.01</td>\n",
       "      <td>ultimate</td>\n",
       "    </tr>\n",
       "  </tbody>\n",
       "</table>\n",
       "</div>"
      ],
      "text/plain": [
       "   messages_included  mb_per_month_included  minutes_included  \\\n",
       "0                 50                  15360               500   \n",
       "1               1000                  30720              3000   \n",
       "\n",
       "   usd_monthly_pay  usd_per_gb  usd_per_message  usd_per_minute plan_name  \n",
       "0               20          10             0.03            0.03      surf  \n",
       "1               70           7             0.01            0.01  ultimate  "
      ]
     },
     "execution_count": 18,
     "metadata": {},
     "output_type": "execute_result"
    }
   ],
   "source": [
    "# Imprime las condiciones de la tarifa y asegúrate de que te quedan claras\n",
    "df_plans.head()"
   ]
  },
  {
   "cell_type": "markdown",
   "metadata": {
    "id": "hMR1tP5d0q1F"
   },
   "source": [
    "## Agregar datos por usuario\n"
   ]
  },
  {
   "cell_type": "code",
   "execution_count": 19,
   "metadata": {
    "id": "A332cedB0q1G"
   },
   "outputs": [
    {
     "data": {
      "text/html": [
       "<div>\n",
       "<style scoped>\n",
       "    .dataframe tbody tr th:only-of-type {\n",
       "        vertical-align: middle;\n",
       "    }\n",
       "\n",
       "    .dataframe tbody tr th {\n",
       "        vertical-align: top;\n",
       "    }\n",
       "\n",
       "    .dataframe thead th {\n",
       "        text-align: right;\n",
       "    }\n",
       "</style>\n",
       "<table border=\"1\" class=\"dataframe\">\n",
       "  <thead>\n",
       "    <tr style=\"text-align: right;\">\n",
       "      <th>call_date</th>\n",
       "      <th>1</th>\n",
       "      <th>2</th>\n",
       "      <th>3</th>\n",
       "      <th>4</th>\n",
       "      <th>5</th>\n",
       "      <th>6</th>\n",
       "      <th>7</th>\n",
       "      <th>8</th>\n",
       "      <th>9</th>\n",
       "      <th>10</th>\n",
       "      <th>11</th>\n",
       "      <th>12</th>\n",
       "    </tr>\n",
       "    <tr>\n",
       "      <th>user_id</th>\n",
       "      <th></th>\n",
       "      <th></th>\n",
       "      <th></th>\n",
       "      <th></th>\n",
       "      <th></th>\n",
       "      <th></th>\n",
       "      <th></th>\n",
       "      <th></th>\n",
       "      <th></th>\n",
       "      <th></th>\n",
       "      <th></th>\n",
       "      <th></th>\n",
       "    </tr>\n",
       "  </thead>\n",
       "  <tbody>\n",
       "    <tr>\n",
       "      <th>1000</th>\n",
       "      <td>NaN</td>\n",
       "      <td>NaN</td>\n",
       "      <td>NaN</td>\n",
       "      <td>NaN</td>\n",
       "      <td>NaN</td>\n",
       "      <td>NaN</td>\n",
       "      <td>NaN</td>\n",
       "      <td>NaN</td>\n",
       "      <td>NaN</td>\n",
       "      <td>NaN</td>\n",
       "      <td>NaN</td>\n",
       "      <td>16.0</td>\n",
       "    </tr>\n",
       "    <tr>\n",
       "      <th>1001</th>\n",
       "      <td>NaN</td>\n",
       "      <td>NaN</td>\n",
       "      <td>NaN</td>\n",
       "      <td>NaN</td>\n",
       "      <td>NaN</td>\n",
       "      <td>NaN</td>\n",
       "      <td>NaN</td>\n",
       "      <td>27.0</td>\n",
       "      <td>49.0</td>\n",
       "      <td>65.0</td>\n",
       "      <td>64.0</td>\n",
       "      <td>56.0</td>\n",
       "    </tr>\n",
       "    <tr>\n",
       "      <th>1002</th>\n",
       "      <td>NaN</td>\n",
       "      <td>NaN</td>\n",
       "      <td>NaN</td>\n",
       "      <td>NaN</td>\n",
       "      <td>NaN</td>\n",
       "      <td>NaN</td>\n",
       "      <td>NaN</td>\n",
       "      <td>NaN</td>\n",
       "      <td>NaN</td>\n",
       "      <td>11.0</td>\n",
       "      <td>55.0</td>\n",
       "      <td>47.0</td>\n",
       "    </tr>\n",
       "    <tr>\n",
       "      <th>1003</th>\n",
       "      <td>NaN</td>\n",
       "      <td>NaN</td>\n",
       "      <td>NaN</td>\n",
       "      <td>NaN</td>\n",
       "      <td>NaN</td>\n",
       "      <td>NaN</td>\n",
       "      <td>NaN</td>\n",
       "      <td>NaN</td>\n",
       "      <td>NaN</td>\n",
       "      <td>NaN</td>\n",
       "      <td>NaN</td>\n",
       "      <td>149.0</td>\n",
       "    </tr>\n",
       "    <tr>\n",
       "      <th>1004</th>\n",
       "      <td>NaN</td>\n",
       "      <td>NaN</td>\n",
       "      <td>NaN</td>\n",
       "      <td>NaN</td>\n",
       "      <td>21.0</td>\n",
       "      <td>44.0</td>\n",
       "      <td>49.0</td>\n",
       "      <td>49.0</td>\n",
       "      <td>42.0</td>\n",
       "      <td>61.0</td>\n",
       "      <td>54.0</td>\n",
       "      <td>50.0</td>\n",
       "    </tr>\n",
       "    <tr>\n",
       "      <th>...</th>\n",
       "      <td>...</td>\n",
       "      <td>...</td>\n",
       "      <td>...</td>\n",
       "      <td>...</td>\n",
       "      <td>...</td>\n",
       "      <td>...</td>\n",
       "      <td>...</td>\n",
       "      <td>...</td>\n",
       "      <td>...</td>\n",
       "      <td>...</td>\n",
       "      <td>...</td>\n",
       "      <td>...</td>\n",
       "    </tr>\n",
       "    <tr>\n",
       "      <th>1495</th>\n",
       "      <td>NaN</td>\n",
       "      <td>NaN</td>\n",
       "      <td>NaN</td>\n",
       "      <td>NaN</td>\n",
       "      <td>NaN</td>\n",
       "      <td>NaN</td>\n",
       "      <td>NaN</td>\n",
       "      <td>NaN</td>\n",
       "      <td>52.0</td>\n",
       "      <td>75.0</td>\n",
       "      <td>61.0</td>\n",
       "      <td>65.0</td>\n",
       "    </tr>\n",
       "    <tr>\n",
       "      <th>1496</th>\n",
       "      <td>NaN</td>\n",
       "      <td>NaN</td>\n",
       "      <td>NaN</td>\n",
       "      <td>NaN</td>\n",
       "      <td>NaN</td>\n",
       "      <td>NaN</td>\n",
       "      <td>NaN</td>\n",
       "      <td>18.0</td>\n",
       "      <td>52.0</td>\n",
       "      <td>46.0</td>\n",
       "      <td>39.0</td>\n",
       "      <td>40.0</td>\n",
       "    </tr>\n",
       "    <tr>\n",
       "      <th>1497</th>\n",
       "      <td>NaN</td>\n",
       "      <td>NaN</td>\n",
       "      <td>NaN</td>\n",
       "      <td>NaN</td>\n",
       "      <td>NaN</td>\n",
       "      <td>NaN</td>\n",
       "      <td>NaN</td>\n",
       "      <td>NaN</td>\n",
       "      <td>NaN</td>\n",
       "      <td>NaN</td>\n",
       "      <td>NaN</td>\n",
       "      <td>54.0</td>\n",
       "    </tr>\n",
       "    <tr>\n",
       "      <th>1498</th>\n",
       "      <td>NaN</td>\n",
       "      <td>37.0</td>\n",
       "      <td>37.0</td>\n",
       "      <td>47.0</td>\n",
       "      <td>35.0</td>\n",
       "      <td>37.0</td>\n",
       "      <td>43.0</td>\n",
       "      <td>44.0</td>\n",
       "      <td>45.0</td>\n",
       "      <td>46.0</td>\n",
       "      <td>41.0</td>\n",
       "      <td>39.0</td>\n",
       "    </tr>\n",
       "    <tr>\n",
       "      <th>1499</th>\n",
       "      <td>NaN</td>\n",
       "      <td>NaN</td>\n",
       "      <td>NaN</td>\n",
       "      <td>NaN</td>\n",
       "      <td>NaN</td>\n",
       "      <td>NaN</td>\n",
       "      <td>NaN</td>\n",
       "      <td>NaN</td>\n",
       "      <td>41.0</td>\n",
       "      <td>53.0</td>\n",
       "      <td>45.0</td>\n",
       "      <td>65.0</td>\n",
       "    </tr>\n",
       "  </tbody>\n",
       "</table>\n",
       "<p>481 rows × 12 columns</p>\n",
       "</div>"
      ],
      "text/plain": [
       "call_date  1     2     3     4     5     6     7     8     9     10    11  \\\n",
       "user_id                                                                     \n",
       "1000      NaN   NaN   NaN   NaN   NaN   NaN   NaN   NaN   NaN   NaN   NaN   \n",
       "1001      NaN   NaN   NaN   NaN   NaN   NaN   NaN  27.0  49.0  65.0  64.0   \n",
       "1002      NaN   NaN   NaN   NaN   NaN   NaN   NaN   NaN   NaN  11.0  55.0   \n",
       "1003      NaN   NaN   NaN   NaN   NaN   NaN   NaN   NaN   NaN   NaN   NaN   \n",
       "1004      NaN   NaN   NaN   NaN  21.0  44.0  49.0  49.0  42.0  61.0  54.0   \n",
       "...        ..   ...   ...   ...   ...   ...   ...   ...   ...   ...   ...   \n",
       "1495      NaN   NaN   NaN   NaN   NaN   NaN   NaN   NaN  52.0  75.0  61.0   \n",
       "1496      NaN   NaN   NaN   NaN   NaN   NaN   NaN  18.0  52.0  46.0  39.0   \n",
       "1497      NaN   NaN   NaN   NaN   NaN   NaN   NaN   NaN   NaN   NaN   NaN   \n",
       "1498      NaN  37.0  37.0  47.0  35.0  37.0  43.0  44.0  45.0  46.0  41.0   \n",
       "1499      NaN   NaN   NaN   NaN   NaN   NaN   NaN   NaN  41.0  53.0  45.0   \n",
       "\n",
       "call_date     12  \n",
       "user_id           \n",
       "1000        16.0  \n",
       "1001        56.0  \n",
       "1002        47.0  \n",
       "1003       149.0  \n",
       "1004        50.0  \n",
       "...          ...  \n",
       "1495        65.0  \n",
       "1496        40.0  \n",
       "1497        54.0  \n",
       "1498        39.0  \n",
       "1499        65.0  \n",
       "\n",
       "[481 rows x 12 columns]"
      ]
     },
     "metadata": {},
     "output_type": "display_data"
    },
    {
     "name": "stdout",
     "output_type": "stream",
     "text": [
      "<class 'pandas.core.frame.DataFrame'>\n",
      "Int64Index: 481 entries, 1000 to 1499\n",
      "Data columns (total 12 columns):\n",
      " #   Column  Non-Null Count  Dtype  \n",
      "---  ------  --------------  -----  \n",
      " 0   1       481 non-null    float64\n",
      " 1   2       481 non-null    float64\n",
      " 2   3       481 non-null    float64\n",
      " 3   4       481 non-null    float64\n",
      " 4   5       481 non-null    float64\n",
      " 5   6       481 non-null    float64\n",
      " 6   7       481 non-null    float64\n",
      " 7   8       481 non-null    float64\n",
      " 8   9       481 non-null    float64\n",
      " 9   10      481 non-null    float64\n",
      " 10  11      481 non-null    float64\n",
      " 11  12      481 non-null    float64\n",
      "dtypes: float64(12)\n",
      "memory usage: 48.9 KB\n"
     ]
    },
    {
     "data": {
      "text/html": [
       "<div>\n",
       "<style scoped>\n",
       "    .dataframe tbody tr th:only-of-type {\n",
       "        vertical-align: middle;\n",
       "    }\n",
       "\n",
       "    .dataframe tbody tr th {\n",
       "        vertical-align: top;\n",
       "    }\n",
       "\n",
       "    .dataframe thead th {\n",
       "        text-align: right;\n",
       "    }\n",
       "</style>\n",
       "<table border=\"1\" class=\"dataframe\">\n",
       "  <thead>\n",
       "    <tr style=\"text-align: right;\">\n",
       "      <th>call_date</th>\n",
       "      <th>January</th>\n",
       "      <th>February</th>\n",
       "      <th>March</th>\n",
       "      <th>April</th>\n",
       "      <th>May</th>\n",
       "      <th>June</th>\n",
       "      <th>July</th>\n",
       "      <th>August</th>\n",
       "      <th>September</th>\n",
       "      <th>October</th>\n",
       "      <th>November</th>\n",
       "      <th>December</th>\n",
       "    </tr>\n",
       "    <tr>\n",
       "      <th>user_id</th>\n",
       "      <th></th>\n",
       "      <th></th>\n",
       "      <th></th>\n",
       "      <th></th>\n",
       "      <th></th>\n",
       "      <th></th>\n",
       "      <th></th>\n",
       "      <th></th>\n",
       "      <th></th>\n",
       "      <th></th>\n",
       "      <th></th>\n",
       "      <th></th>\n",
       "    </tr>\n",
       "  </thead>\n",
       "  <tbody>\n",
       "    <tr>\n",
       "      <th>1000</th>\n",
       "      <td>0.0</td>\n",
       "      <td>0.0</td>\n",
       "      <td>0.0</td>\n",
       "      <td>0.0</td>\n",
       "      <td>0.0</td>\n",
       "      <td>0.0</td>\n",
       "      <td>0.0</td>\n",
       "      <td>0.0</td>\n",
       "      <td>0.0</td>\n",
       "      <td>0.0</td>\n",
       "      <td>0.0</td>\n",
       "      <td>16.0</td>\n",
       "    </tr>\n",
       "    <tr>\n",
       "      <th>1001</th>\n",
       "      <td>0.0</td>\n",
       "      <td>0.0</td>\n",
       "      <td>0.0</td>\n",
       "      <td>0.0</td>\n",
       "      <td>0.0</td>\n",
       "      <td>0.0</td>\n",
       "      <td>0.0</td>\n",
       "      <td>27.0</td>\n",
       "      <td>49.0</td>\n",
       "      <td>65.0</td>\n",
       "      <td>64.0</td>\n",
       "      <td>56.0</td>\n",
       "    </tr>\n",
       "    <tr>\n",
       "      <th>1002</th>\n",
       "      <td>0.0</td>\n",
       "      <td>0.0</td>\n",
       "      <td>0.0</td>\n",
       "      <td>0.0</td>\n",
       "      <td>0.0</td>\n",
       "      <td>0.0</td>\n",
       "      <td>0.0</td>\n",
       "      <td>0.0</td>\n",
       "      <td>0.0</td>\n",
       "      <td>11.0</td>\n",
       "      <td>55.0</td>\n",
       "      <td>47.0</td>\n",
       "    </tr>\n",
       "    <tr>\n",
       "      <th>1003</th>\n",
       "      <td>0.0</td>\n",
       "      <td>0.0</td>\n",
       "      <td>0.0</td>\n",
       "      <td>0.0</td>\n",
       "      <td>0.0</td>\n",
       "      <td>0.0</td>\n",
       "      <td>0.0</td>\n",
       "      <td>0.0</td>\n",
       "      <td>0.0</td>\n",
       "      <td>0.0</td>\n",
       "      <td>0.0</td>\n",
       "      <td>149.0</td>\n",
       "    </tr>\n",
       "    <tr>\n",
       "      <th>1004</th>\n",
       "      <td>0.0</td>\n",
       "      <td>0.0</td>\n",
       "      <td>0.0</td>\n",
       "      <td>0.0</td>\n",
       "      <td>21.0</td>\n",
       "      <td>44.0</td>\n",
       "      <td>49.0</td>\n",
       "      <td>49.0</td>\n",
       "      <td>42.0</td>\n",
       "      <td>61.0</td>\n",
       "      <td>54.0</td>\n",
       "      <td>50.0</td>\n",
       "    </tr>\n",
       "    <tr>\n",
       "      <th>...</th>\n",
       "      <td>...</td>\n",
       "      <td>...</td>\n",
       "      <td>...</td>\n",
       "      <td>...</td>\n",
       "      <td>...</td>\n",
       "      <td>...</td>\n",
       "      <td>...</td>\n",
       "      <td>...</td>\n",
       "      <td>...</td>\n",
       "      <td>...</td>\n",
       "      <td>...</td>\n",
       "      <td>...</td>\n",
       "    </tr>\n",
       "    <tr>\n",
       "      <th>1495</th>\n",
       "      <td>0.0</td>\n",
       "      <td>0.0</td>\n",
       "      <td>0.0</td>\n",
       "      <td>0.0</td>\n",
       "      <td>0.0</td>\n",
       "      <td>0.0</td>\n",
       "      <td>0.0</td>\n",
       "      <td>0.0</td>\n",
       "      <td>52.0</td>\n",
       "      <td>75.0</td>\n",
       "      <td>61.0</td>\n",
       "      <td>65.0</td>\n",
       "    </tr>\n",
       "    <tr>\n",
       "      <th>1496</th>\n",
       "      <td>0.0</td>\n",
       "      <td>0.0</td>\n",
       "      <td>0.0</td>\n",
       "      <td>0.0</td>\n",
       "      <td>0.0</td>\n",
       "      <td>0.0</td>\n",
       "      <td>0.0</td>\n",
       "      <td>18.0</td>\n",
       "      <td>52.0</td>\n",
       "      <td>46.0</td>\n",
       "      <td>39.0</td>\n",
       "      <td>40.0</td>\n",
       "    </tr>\n",
       "    <tr>\n",
       "      <th>1497</th>\n",
       "      <td>0.0</td>\n",
       "      <td>0.0</td>\n",
       "      <td>0.0</td>\n",
       "      <td>0.0</td>\n",
       "      <td>0.0</td>\n",
       "      <td>0.0</td>\n",
       "      <td>0.0</td>\n",
       "      <td>0.0</td>\n",
       "      <td>0.0</td>\n",
       "      <td>0.0</td>\n",
       "      <td>0.0</td>\n",
       "      <td>54.0</td>\n",
       "    </tr>\n",
       "    <tr>\n",
       "      <th>1498</th>\n",
       "      <td>0.0</td>\n",
       "      <td>37.0</td>\n",
       "      <td>37.0</td>\n",
       "      <td>47.0</td>\n",
       "      <td>35.0</td>\n",
       "      <td>37.0</td>\n",
       "      <td>43.0</td>\n",
       "      <td>44.0</td>\n",
       "      <td>45.0</td>\n",
       "      <td>46.0</td>\n",
       "      <td>41.0</td>\n",
       "      <td>39.0</td>\n",
       "    </tr>\n",
       "    <tr>\n",
       "      <th>1499</th>\n",
       "      <td>0.0</td>\n",
       "      <td>0.0</td>\n",
       "      <td>0.0</td>\n",
       "      <td>0.0</td>\n",
       "      <td>0.0</td>\n",
       "      <td>0.0</td>\n",
       "      <td>0.0</td>\n",
       "      <td>0.0</td>\n",
       "      <td>41.0</td>\n",
       "      <td>53.0</td>\n",
       "      <td>45.0</td>\n",
       "      <td>65.0</td>\n",
       "    </tr>\n",
       "  </tbody>\n",
       "</table>\n",
       "<p>481 rows × 12 columns</p>\n",
       "</div>"
      ],
      "text/plain": [
       "call_date  January  February  March  April   May  June  July  August  \\\n",
       "user_id                                                                \n",
       "1000           0.0       0.0    0.0    0.0   0.0   0.0   0.0     0.0   \n",
       "1001           0.0       0.0    0.0    0.0   0.0   0.0   0.0    27.0   \n",
       "1002           0.0       0.0    0.0    0.0   0.0   0.0   0.0     0.0   \n",
       "1003           0.0       0.0    0.0    0.0   0.0   0.0   0.0     0.0   \n",
       "1004           0.0       0.0    0.0    0.0  21.0  44.0  49.0    49.0   \n",
       "...            ...       ...    ...    ...   ...   ...   ...     ...   \n",
       "1495           0.0       0.0    0.0    0.0   0.0   0.0   0.0     0.0   \n",
       "1496           0.0       0.0    0.0    0.0   0.0   0.0   0.0    18.0   \n",
       "1497           0.0       0.0    0.0    0.0   0.0   0.0   0.0     0.0   \n",
       "1498           0.0      37.0   37.0   47.0  35.0  37.0  43.0    44.0   \n",
       "1499           0.0       0.0    0.0    0.0   0.0   0.0   0.0     0.0   \n",
       "\n",
       "call_date  September  October  November  December  \n",
       "user_id                                            \n",
       "1000             0.0      0.0       0.0      16.0  \n",
       "1001            49.0     65.0      64.0      56.0  \n",
       "1002             0.0     11.0      55.0      47.0  \n",
       "1003             0.0      0.0       0.0     149.0  \n",
       "1004            42.0     61.0      54.0      50.0  \n",
       "...              ...      ...       ...       ...  \n",
       "1495            52.0     75.0      61.0      65.0  \n",
       "1496            52.0     46.0      39.0      40.0  \n",
       "1497             0.0      0.0       0.0      54.0  \n",
       "1498            45.0     46.0      41.0      39.0  \n",
       "1499            41.0     53.0      45.0      65.0  \n",
       "\n",
       "[481 rows x 12 columns]"
      ]
     },
     "metadata": {},
     "output_type": "display_data"
    }
   ],
   "source": [
    "# Calcula el número de llamadas hechas por cada usuario al mes. Guarda el resultado.\n",
    "calls_per_user=df_calls.pivot_table(index='user_id',columns=df_calls[\"call_date\"].dt.month,values=\"duration\",aggfunc='count')\n",
    "display(calls_per_user)\n",
    "#Eliminamos datos nulos\n",
    "calls_per_user=calls_per_user.fillna(0)\n",
    "calls_per_user.info()\n",
    "#Cambiamos los nombres numericos de los meses a sus respectivos nombres en ingles\n",
    "calls_per_user = calls_per_user.rename(columns={1:'January',2:'February',3:'March',4:'April',5:'May',6:'June',7:'July',8:'August',9:'September',10:'October',11:'November',12:'December'})\n",
    "display(calls_per_user)"
   ]
  },
  {
   "cell_type": "code",
   "execution_count": 20,
   "metadata": {
    "id": "CcQvNHn60q1G"
   },
   "outputs": [
    {
     "data": {
      "text/html": [
       "<div>\n",
       "<style scoped>\n",
       "    .dataframe tbody tr th:only-of-type {\n",
       "        vertical-align: middle;\n",
       "    }\n",
       "\n",
       "    .dataframe tbody tr th {\n",
       "        vertical-align: top;\n",
       "    }\n",
       "\n",
       "    .dataframe thead th {\n",
       "        text-align: right;\n",
       "    }\n",
       "</style>\n",
       "<table border=\"1\" class=\"dataframe\">\n",
       "  <thead>\n",
       "    <tr style=\"text-align: right;\">\n",
       "      <th>message_date</th>\n",
       "      <th>January</th>\n",
       "      <th>February</th>\n",
       "      <th>March</th>\n",
       "      <th>April</th>\n",
       "      <th>May</th>\n",
       "      <th>June</th>\n",
       "      <th>July</th>\n",
       "      <th>August</th>\n",
       "      <th>September</th>\n",
       "      <th>October</th>\n",
       "      <th>November</th>\n",
       "      <th>December</th>\n",
       "    </tr>\n",
       "    <tr>\n",
       "      <th>user_id</th>\n",
       "      <th></th>\n",
       "      <th></th>\n",
       "      <th></th>\n",
       "      <th></th>\n",
       "      <th></th>\n",
       "      <th></th>\n",
       "      <th></th>\n",
       "      <th></th>\n",
       "      <th></th>\n",
       "      <th></th>\n",
       "      <th></th>\n",
       "      <th></th>\n",
       "    </tr>\n",
       "  </thead>\n",
       "  <tbody>\n",
       "    <tr>\n",
       "      <th>1000</th>\n",
       "      <td>0.0</td>\n",
       "      <td>0.0</td>\n",
       "      <td>0.0</td>\n",
       "      <td>0.0</td>\n",
       "      <td>0.0</td>\n",
       "      <td>0.0</td>\n",
       "      <td>0.0</td>\n",
       "      <td>0.0</td>\n",
       "      <td>0.0</td>\n",
       "      <td>0.0</td>\n",
       "      <td>0.0</td>\n",
       "      <td>11.0</td>\n",
       "    </tr>\n",
       "    <tr>\n",
       "      <th>1001</th>\n",
       "      <td>0.0</td>\n",
       "      <td>0.0</td>\n",
       "      <td>0.0</td>\n",
       "      <td>0.0</td>\n",
       "      <td>0.0</td>\n",
       "      <td>0.0</td>\n",
       "      <td>0.0</td>\n",
       "      <td>30.0</td>\n",
       "      <td>44.0</td>\n",
       "      <td>53.0</td>\n",
       "      <td>36.0</td>\n",
       "      <td>44.0</td>\n",
       "    </tr>\n",
       "    <tr>\n",
       "      <th>1002</th>\n",
       "      <td>0.0</td>\n",
       "      <td>0.0</td>\n",
       "      <td>0.0</td>\n",
       "      <td>0.0</td>\n",
       "      <td>0.0</td>\n",
       "      <td>0.0</td>\n",
       "      <td>0.0</td>\n",
       "      <td>0.0</td>\n",
       "      <td>0.0</td>\n",
       "      <td>15.0</td>\n",
       "      <td>32.0</td>\n",
       "      <td>41.0</td>\n",
       "    </tr>\n",
       "    <tr>\n",
       "      <th>1003</th>\n",
       "      <td>0.0</td>\n",
       "      <td>0.0</td>\n",
       "      <td>0.0</td>\n",
       "      <td>0.0</td>\n",
       "      <td>0.0</td>\n",
       "      <td>0.0</td>\n",
       "      <td>0.0</td>\n",
       "      <td>0.0</td>\n",
       "      <td>0.0</td>\n",
       "      <td>0.0</td>\n",
       "      <td>0.0</td>\n",
       "      <td>50.0</td>\n",
       "    </tr>\n",
       "    <tr>\n",
       "      <th>1004</th>\n",
       "      <td>0.0</td>\n",
       "      <td>0.0</td>\n",
       "      <td>0.0</td>\n",
       "      <td>0.0</td>\n",
       "      <td>7.0</td>\n",
       "      <td>18.0</td>\n",
       "      <td>26.0</td>\n",
       "      <td>25.0</td>\n",
       "      <td>21.0</td>\n",
       "      <td>24.0</td>\n",
       "      <td>25.0</td>\n",
       "      <td>31.0</td>\n",
       "    </tr>\n",
       "    <tr>\n",
       "      <th>...</th>\n",
       "      <td>...</td>\n",
       "      <td>...</td>\n",
       "      <td>...</td>\n",
       "      <td>...</td>\n",
       "      <td>...</td>\n",
       "      <td>...</td>\n",
       "      <td>...</td>\n",
       "      <td>...</td>\n",
       "      <td>...</td>\n",
       "      <td>...</td>\n",
       "      <td>...</td>\n",
       "      <td>...</td>\n",
       "    </tr>\n",
       "    <tr>\n",
       "      <th>1491</th>\n",
       "      <td>0.0</td>\n",
       "      <td>0.0</td>\n",
       "      <td>0.0</td>\n",
       "      <td>6.0</td>\n",
       "      <td>45.0</td>\n",
       "      <td>54.0</td>\n",
       "      <td>64.0</td>\n",
       "      <td>50.0</td>\n",
       "      <td>50.0</td>\n",
       "      <td>51.0</td>\n",
       "      <td>46.0</td>\n",
       "      <td>43.0</td>\n",
       "    </tr>\n",
       "    <tr>\n",
       "      <th>1492</th>\n",
       "      <td>0.0</td>\n",
       "      <td>0.0</td>\n",
       "      <td>0.0</td>\n",
       "      <td>0.0</td>\n",
       "      <td>0.0</td>\n",
       "      <td>0.0</td>\n",
       "      <td>0.0</td>\n",
       "      <td>0.0</td>\n",
       "      <td>11.0</td>\n",
       "      <td>29.0</td>\n",
       "      <td>31.0</td>\n",
       "      <td>37.0</td>\n",
       "    </tr>\n",
       "    <tr>\n",
       "      <th>1494</th>\n",
       "      <td>0.0</td>\n",
       "      <td>0.0</td>\n",
       "      <td>0.0</td>\n",
       "      <td>0.0</td>\n",
       "      <td>0.0</td>\n",
       "      <td>0.0</td>\n",
       "      <td>20.0</td>\n",
       "      <td>27.0</td>\n",
       "      <td>21.0</td>\n",
       "      <td>38.0</td>\n",
       "      <td>35.0</td>\n",
       "      <td>33.0</td>\n",
       "    </tr>\n",
       "    <tr>\n",
       "      <th>1496</th>\n",
       "      <td>0.0</td>\n",
       "      <td>0.0</td>\n",
       "      <td>0.0</td>\n",
       "      <td>0.0</td>\n",
       "      <td>0.0</td>\n",
       "      <td>0.0</td>\n",
       "      <td>0.0</td>\n",
       "      <td>2.0</td>\n",
       "      <td>21.0</td>\n",
       "      <td>18.0</td>\n",
       "      <td>13.0</td>\n",
       "      <td>11.0</td>\n",
       "    </tr>\n",
       "    <tr>\n",
       "      <th>1497</th>\n",
       "      <td>0.0</td>\n",
       "      <td>0.0</td>\n",
       "      <td>0.0</td>\n",
       "      <td>0.0</td>\n",
       "      <td>0.0</td>\n",
       "      <td>0.0</td>\n",
       "      <td>0.0</td>\n",
       "      <td>0.0</td>\n",
       "      <td>0.0</td>\n",
       "      <td>0.0</td>\n",
       "      <td>0.0</td>\n",
       "      <td>50.0</td>\n",
       "    </tr>\n",
       "  </tbody>\n",
       "</table>\n",
       "<p>402 rows × 12 columns</p>\n",
       "</div>"
      ],
      "text/plain": [
       "message_date  January  February  March  April   May  June  July  August  \\\n",
       "user_id                                                                   \n",
       "1000              0.0       0.0    0.0    0.0   0.0   0.0   0.0     0.0   \n",
       "1001              0.0       0.0    0.0    0.0   0.0   0.0   0.0    30.0   \n",
       "1002              0.0       0.0    0.0    0.0   0.0   0.0   0.0     0.0   \n",
       "1003              0.0       0.0    0.0    0.0   0.0   0.0   0.0     0.0   \n",
       "1004              0.0       0.0    0.0    0.0   7.0  18.0  26.0    25.0   \n",
       "...               ...       ...    ...    ...   ...   ...   ...     ...   \n",
       "1491              0.0       0.0    0.0    6.0  45.0  54.0  64.0    50.0   \n",
       "1492              0.0       0.0    0.0    0.0   0.0   0.0   0.0     0.0   \n",
       "1494              0.0       0.0    0.0    0.0   0.0   0.0  20.0    27.0   \n",
       "1496              0.0       0.0    0.0    0.0   0.0   0.0   0.0     2.0   \n",
       "1497              0.0       0.0    0.0    0.0   0.0   0.0   0.0     0.0   \n",
       "\n",
       "message_date  September  October  November  December  \n",
       "user_id                                               \n",
       "1000                0.0      0.0       0.0      11.0  \n",
       "1001               44.0     53.0      36.0      44.0  \n",
       "1002                0.0     15.0      32.0      41.0  \n",
       "1003                0.0      0.0       0.0      50.0  \n",
       "1004               21.0     24.0      25.0      31.0  \n",
       "...                 ...      ...       ...       ...  \n",
       "1491               50.0     51.0      46.0      43.0  \n",
       "1492               11.0     29.0      31.0      37.0  \n",
       "1494               21.0     38.0      35.0      33.0  \n",
       "1496               21.0     18.0      13.0      11.0  \n",
       "1497                0.0      0.0       0.0      50.0  \n",
       "\n",
       "[402 rows x 12 columns]"
      ]
     },
     "metadata": {},
     "output_type": "display_data"
    }
   ],
   "source": [
    "# Calcula el número de mensajes enviados por cada usuario al mes. Guarda el resultado.\n",
    "#Realizamos el mismo proceso\n",
    "message_per_user=df_messages.pivot_table(index='user_id',columns=df_messages[\"message_date\"].dt.month,values=\"id\",aggfunc='count')\n",
    "message_per_user=message_per_user.fillna(0)\n",
    "message_per_user = message_per_user.rename(columns={1:'January',2:'February',3:'March',4:'April',5:'May',6:'June',7:'July',8:'August',9:'September',10:'October',11:'November',12:'December'})\n",
    "display(message_per_user)"
   ]
  },
  {
   "cell_type": "code",
   "execution_count": 21,
   "metadata": {
    "id": "aw2cmuql0q1G"
   },
   "outputs": [
    {
     "data": {
      "text/html": [
       "<div>\n",
       "<style scoped>\n",
       "    .dataframe tbody tr th:only-of-type {\n",
       "        vertical-align: middle;\n",
       "    }\n",
       "\n",
       "    .dataframe tbody tr th {\n",
       "        vertical-align: top;\n",
       "    }\n",
       "\n",
       "    .dataframe thead th {\n",
       "        text-align: right;\n",
       "    }\n",
       "</style>\n",
       "<table border=\"1\" class=\"dataframe\">\n",
       "  <thead>\n",
       "    <tr style=\"text-align: right;\">\n",
       "      <th>call_date</th>\n",
       "      <th>January</th>\n",
       "      <th>February</th>\n",
       "      <th>March</th>\n",
       "      <th>April</th>\n",
       "      <th>May</th>\n",
       "      <th>June</th>\n",
       "      <th>July</th>\n",
       "      <th>August</th>\n",
       "      <th>September</th>\n",
       "      <th>October</th>\n",
       "      <th>November</th>\n",
       "      <th>December</th>\n",
       "    </tr>\n",
       "    <tr>\n",
       "      <th>user_id</th>\n",
       "      <th></th>\n",
       "      <th></th>\n",
       "      <th></th>\n",
       "      <th></th>\n",
       "      <th></th>\n",
       "      <th></th>\n",
       "      <th></th>\n",
       "      <th></th>\n",
       "      <th></th>\n",
       "      <th></th>\n",
       "      <th></th>\n",
       "      <th></th>\n",
       "    </tr>\n",
       "  </thead>\n",
       "  <tbody>\n",
       "    <tr>\n",
       "      <th>1000</th>\n",
       "      <td>0.0</td>\n",
       "      <td>0.00</td>\n",
       "      <td>0.00</td>\n",
       "      <td>0.00</td>\n",
       "      <td>0.00</td>\n",
       "      <td>0.00</td>\n",
       "      <td>0.00</td>\n",
       "      <td>0.00</td>\n",
       "      <td>0.00</td>\n",
       "      <td>0.00</td>\n",
       "      <td>0.00</td>\n",
       "      <td>116.83</td>\n",
       "    </tr>\n",
       "    <tr>\n",
       "      <th>1001</th>\n",
       "      <td>0.0</td>\n",
       "      <td>0.00</td>\n",
       "      <td>0.00</td>\n",
       "      <td>0.00</td>\n",
       "      <td>0.00</td>\n",
       "      <td>0.00</td>\n",
       "      <td>0.00</td>\n",
       "      <td>171.14</td>\n",
       "      <td>297.69</td>\n",
       "      <td>374.11</td>\n",
       "      <td>404.59</td>\n",
       "      <td>392.93</td>\n",
       "    </tr>\n",
       "    <tr>\n",
       "      <th>1002</th>\n",
       "      <td>0.0</td>\n",
       "      <td>0.00</td>\n",
       "      <td>0.00</td>\n",
       "      <td>0.00</td>\n",
       "      <td>0.00</td>\n",
       "      <td>0.00</td>\n",
       "      <td>0.00</td>\n",
       "      <td>0.00</td>\n",
       "      <td>0.00</td>\n",
       "      <td>54.13</td>\n",
       "      <td>359.76</td>\n",
       "      <td>363.24</td>\n",
       "    </tr>\n",
       "    <tr>\n",
       "      <th>1003</th>\n",
       "      <td>0.0</td>\n",
       "      <td>0.00</td>\n",
       "      <td>0.00</td>\n",
       "      <td>0.00</td>\n",
       "      <td>0.00</td>\n",
       "      <td>0.00</td>\n",
       "      <td>0.00</td>\n",
       "      <td>0.00</td>\n",
       "      <td>0.00</td>\n",
       "      <td>0.00</td>\n",
       "      <td>0.00</td>\n",
       "      <td>1041.00</td>\n",
       "    </tr>\n",
       "    <tr>\n",
       "      <th>1004</th>\n",
       "      <td>0.0</td>\n",
       "      <td>0.00</td>\n",
       "      <td>0.00</td>\n",
       "      <td>0.00</td>\n",
       "      <td>181.58</td>\n",
       "      <td>261.32</td>\n",
       "      <td>358.45</td>\n",
       "      <td>334.86</td>\n",
       "      <td>284.60</td>\n",
       "      <td>341.63</td>\n",
       "      <td>452.98</td>\n",
       "      <td>403.53</td>\n",
       "    </tr>\n",
       "    <tr>\n",
       "      <th>...</th>\n",
       "      <td>...</td>\n",
       "      <td>...</td>\n",
       "      <td>...</td>\n",
       "      <td>...</td>\n",
       "      <td>...</td>\n",
       "      <td>...</td>\n",
       "      <td>...</td>\n",
       "      <td>...</td>\n",
       "      <td>...</td>\n",
       "      <td>...</td>\n",
       "      <td>...</td>\n",
       "      <td>...</td>\n",
       "    </tr>\n",
       "    <tr>\n",
       "      <th>1495</th>\n",
       "      <td>0.0</td>\n",
       "      <td>0.00</td>\n",
       "      <td>0.00</td>\n",
       "      <td>0.00</td>\n",
       "      <td>0.00</td>\n",
       "      <td>0.00</td>\n",
       "      <td>0.00</td>\n",
       "      <td>0.00</td>\n",
       "      <td>283.46</td>\n",
       "      <td>578.03</td>\n",
       "      <td>337.45</td>\n",
       "      <td>467.47</td>\n",
       "    </tr>\n",
       "    <tr>\n",
       "      <th>1496</th>\n",
       "      <td>0.0</td>\n",
       "      <td>0.00</td>\n",
       "      <td>0.00</td>\n",
       "      <td>0.00</td>\n",
       "      <td>0.00</td>\n",
       "      <td>0.00</td>\n",
       "      <td>0.00</td>\n",
       "      <td>114.62</td>\n",
       "      <td>389.94</td>\n",
       "      <td>301.16</td>\n",
       "      <td>291.88</td>\n",
       "      <td>278.61</td>\n",
       "    </tr>\n",
       "    <tr>\n",
       "      <th>1497</th>\n",
       "      <td>0.0</td>\n",
       "      <td>0.00</td>\n",
       "      <td>0.00</td>\n",
       "      <td>0.00</td>\n",
       "      <td>0.00</td>\n",
       "      <td>0.00</td>\n",
       "      <td>0.00</td>\n",
       "      <td>0.00</td>\n",
       "      <td>0.00</td>\n",
       "      <td>0.00</td>\n",
       "      <td>0.00</td>\n",
       "      <td>276.53</td>\n",
       "    </tr>\n",
       "    <tr>\n",
       "      <th>1498</th>\n",
       "      <td>0.0</td>\n",
       "      <td>231.87</td>\n",
       "      <td>247.72</td>\n",
       "      <td>344.18</td>\n",
       "      <td>275.13</td>\n",
       "      <td>225.57</td>\n",
       "      <td>304.49</td>\n",
       "      <td>244.57</td>\n",
       "      <td>344.62</td>\n",
       "      <td>278.06</td>\n",
       "      <td>208.99</td>\n",
       "      <td>324.77</td>\n",
       "    </tr>\n",
       "    <tr>\n",
       "      <th>1499</th>\n",
       "      <td>0.0</td>\n",
       "      <td>0.00</td>\n",
       "      <td>0.00</td>\n",
       "      <td>0.00</td>\n",
       "      <td>0.00</td>\n",
       "      <td>0.00</td>\n",
       "      <td>0.00</td>\n",
       "      <td>0.00</td>\n",
       "      <td>330.37</td>\n",
       "      <td>363.28</td>\n",
       "      <td>288.56</td>\n",
       "      <td>468.10</td>\n",
       "    </tr>\n",
       "  </tbody>\n",
       "</table>\n",
       "<p>481 rows × 12 columns</p>\n",
       "</div>"
      ],
      "text/plain": [
       "call_date  January  February   March   April     May    June    July  August  \\\n",
       "user_id                                                                        \n",
       "1000           0.0      0.00    0.00    0.00    0.00    0.00    0.00    0.00   \n",
       "1001           0.0      0.00    0.00    0.00    0.00    0.00    0.00  171.14   \n",
       "1002           0.0      0.00    0.00    0.00    0.00    0.00    0.00    0.00   \n",
       "1003           0.0      0.00    0.00    0.00    0.00    0.00    0.00    0.00   \n",
       "1004           0.0      0.00    0.00    0.00  181.58  261.32  358.45  334.86   \n",
       "...            ...       ...     ...     ...     ...     ...     ...     ...   \n",
       "1495           0.0      0.00    0.00    0.00    0.00    0.00    0.00    0.00   \n",
       "1496           0.0      0.00    0.00    0.00    0.00    0.00    0.00  114.62   \n",
       "1497           0.0      0.00    0.00    0.00    0.00    0.00    0.00    0.00   \n",
       "1498           0.0    231.87  247.72  344.18  275.13  225.57  304.49  244.57   \n",
       "1499           0.0      0.00    0.00    0.00    0.00    0.00    0.00    0.00   \n",
       "\n",
       "call_date  September  October  November  December  \n",
       "user_id                                            \n",
       "1000            0.00     0.00      0.00    116.83  \n",
       "1001          297.69   374.11    404.59    392.93  \n",
       "1002            0.00    54.13    359.76    363.24  \n",
       "1003            0.00     0.00      0.00   1041.00  \n",
       "1004          284.60   341.63    452.98    403.53  \n",
       "...              ...      ...       ...       ...  \n",
       "1495          283.46   578.03    337.45    467.47  \n",
       "1496          389.94   301.16    291.88    278.61  \n",
       "1497            0.00     0.00      0.00    276.53  \n",
       "1498          344.62   278.06    208.99    324.77  \n",
       "1499          330.37   363.28    288.56    468.10  \n",
       "\n",
       "[481 rows x 12 columns]"
      ]
     },
     "metadata": {},
     "output_type": "display_data"
    }
   ],
   "source": [
    "# Calcula la cantidad de minutos usados por cada usuario al mes. Guarda el resultado.\n",
    "minutes_per_user=df_calls.pivot_table(index='user_id',columns=df_calls[\"call_date\"].dt.month,values=\"duration\",aggfunc='sum')\n",
    "minutes_per_user=minutes_per_user.fillna(0)\n",
    "minutes_per_user = minutes_per_user.rename(columns={1:'January',2:'February',3:'March',4:'April',5:'May',6:'June',7:'July',8:'August',9:'September',10:'October',11:'November',12:'December'})\n",
    "display(minutes_per_user)"
   ]
  },
  {
   "cell_type": "code",
   "execution_count": 22,
   "metadata": {
    "id": "H1AqN2eG0q1H"
   },
   "outputs": [
    {
     "data": {
      "text/html": [
       "<div>\n",
       "<style scoped>\n",
       "    .dataframe tbody tr th:only-of-type {\n",
       "        vertical-align: middle;\n",
       "    }\n",
       "\n",
       "    .dataframe tbody tr th {\n",
       "        vertical-align: top;\n",
       "    }\n",
       "\n",
       "    .dataframe thead th {\n",
       "        text-align: right;\n",
       "    }\n",
       "</style>\n",
       "<table border=\"1\" class=\"dataframe\">\n",
       "  <thead>\n",
       "    <tr style=\"text-align: right;\">\n",
       "      <th>session_date</th>\n",
       "      <th>January</th>\n",
       "      <th>February</th>\n",
       "      <th>March</th>\n",
       "      <th>April</th>\n",
       "      <th>May</th>\n",
       "      <th>June</th>\n",
       "      <th>July</th>\n",
       "      <th>August</th>\n",
       "      <th>September</th>\n",
       "      <th>October</th>\n",
       "      <th>November</th>\n",
       "      <th>December</th>\n",
       "    </tr>\n",
       "    <tr>\n",
       "      <th>user_id</th>\n",
       "      <th></th>\n",
       "      <th></th>\n",
       "      <th></th>\n",
       "      <th></th>\n",
       "      <th></th>\n",
       "      <th></th>\n",
       "      <th></th>\n",
       "      <th></th>\n",
       "      <th></th>\n",
       "      <th></th>\n",
       "      <th></th>\n",
       "      <th></th>\n",
       "    </tr>\n",
       "  </thead>\n",
       "  <tbody>\n",
       "    <tr>\n",
       "      <th>1000</th>\n",
       "      <td>0.0</td>\n",
       "      <td>0.00</td>\n",
       "      <td>0.00</td>\n",
       "      <td>0.00</td>\n",
       "      <td>0.00</td>\n",
       "      <td>0.00</td>\n",
       "      <td>0.00</td>\n",
       "      <td>0.00</td>\n",
       "      <td>0.00</td>\n",
       "      <td>0.00</td>\n",
       "      <td>0.00</td>\n",
       "      <td>1901.47</td>\n",
       "    </tr>\n",
       "    <tr>\n",
       "      <th>1001</th>\n",
       "      <td>0.0</td>\n",
       "      <td>0.00</td>\n",
       "      <td>0.00</td>\n",
       "      <td>0.00</td>\n",
       "      <td>0.00</td>\n",
       "      <td>0.00</td>\n",
       "      <td>0.00</td>\n",
       "      <td>6919.15</td>\n",
       "      <td>13314.82</td>\n",
       "      <td>22330.49</td>\n",
       "      <td>18504.30</td>\n",
       "      <td>19369.18</td>\n",
       "    </tr>\n",
       "    <tr>\n",
       "      <th>1002</th>\n",
       "      <td>0.0</td>\n",
       "      <td>0.00</td>\n",
       "      <td>0.00</td>\n",
       "      <td>0.00</td>\n",
       "      <td>0.00</td>\n",
       "      <td>0.00</td>\n",
       "      <td>0.00</td>\n",
       "      <td>0.00</td>\n",
       "      <td>0.00</td>\n",
       "      <td>6552.01</td>\n",
       "      <td>19345.08</td>\n",
       "      <td>14396.24</td>\n",
       "    </tr>\n",
       "    <tr>\n",
       "      <th>1003</th>\n",
       "      <td>0.0</td>\n",
       "      <td>0.00</td>\n",
       "      <td>0.00</td>\n",
       "      <td>0.00</td>\n",
       "      <td>0.00</td>\n",
       "      <td>0.00</td>\n",
       "      <td>0.00</td>\n",
       "      <td>0.00</td>\n",
       "      <td>0.00</td>\n",
       "      <td>0.00</td>\n",
       "      <td>0.00</td>\n",
       "      <td>27044.14</td>\n",
       "    </tr>\n",
       "    <tr>\n",
       "      <th>1004</th>\n",
       "      <td>0.0</td>\n",
       "      <td>0.00</td>\n",
       "      <td>0.00</td>\n",
       "      <td>0.00</td>\n",
       "      <td>6547.21</td>\n",
       "      <td>20672.82</td>\n",
       "      <td>24516.62</td>\n",
       "      <td>27981.74</td>\n",
       "      <td>18852.72</td>\n",
       "      <td>14541.63</td>\n",
       "      <td>21850.78</td>\n",
       "      <td>21389.29</td>\n",
       "    </tr>\n",
       "    <tr>\n",
       "      <th>...</th>\n",
       "      <td>...</td>\n",
       "      <td>...</td>\n",
       "      <td>...</td>\n",
       "      <td>...</td>\n",
       "      <td>...</td>\n",
       "      <td>...</td>\n",
       "      <td>...</td>\n",
       "      <td>...</td>\n",
       "      <td>...</td>\n",
       "      <td>...</td>\n",
       "      <td>...</td>\n",
       "      <td>...</td>\n",
       "    </tr>\n",
       "    <tr>\n",
       "      <th>1495</th>\n",
       "      <td>0.0</td>\n",
       "      <td>0.00</td>\n",
       "      <td>0.00</td>\n",
       "      <td>0.00</td>\n",
       "      <td>0.00</td>\n",
       "      <td>0.00</td>\n",
       "      <td>0.00</td>\n",
       "      <td>0.00</td>\n",
       "      <td>22981.37</td>\n",
       "      <td>26899.41</td>\n",
       "      <td>24912.78</td>\n",
       "      <td>24097.40</td>\n",
       "    </tr>\n",
       "    <tr>\n",
       "      <th>1496</th>\n",
       "      <td>0.0</td>\n",
       "      <td>0.00</td>\n",
       "      <td>0.00</td>\n",
       "      <td>0.00</td>\n",
       "      <td>0.00</td>\n",
       "      <td>0.00</td>\n",
       "      <td>0.00</td>\n",
       "      <td>8605.66</td>\n",
       "      <td>16389.27</td>\n",
       "      <td>14287.36</td>\n",
       "      <td>8547.36</td>\n",
       "      <td>16438.99</td>\n",
       "    </tr>\n",
       "    <tr>\n",
       "      <th>1497</th>\n",
       "      <td>0.0</td>\n",
       "      <td>0.00</td>\n",
       "      <td>0.00</td>\n",
       "      <td>0.00</td>\n",
       "      <td>0.00</td>\n",
       "      <td>0.00</td>\n",
       "      <td>0.00</td>\n",
       "      <td>0.00</td>\n",
       "      <td>0.00</td>\n",
       "      <td>0.00</td>\n",
       "      <td>0.00</td>\n",
       "      <td>11106.55</td>\n",
       "    </tr>\n",
       "    <tr>\n",
       "      <th>1498</th>\n",
       "      <td>0.0</td>\n",
       "      <td>19822.04</td>\n",
       "      <td>19744.34</td>\n",
       "      <td>19878.86</td>\n",
       "      <td>22462.17</td>\n",
       "      <td>14807.18</td>\n",
       "      <td>24834.37</td>\n",
       "      <td>20261.89</td>\n",
       "      <td>22827.28</td>\n",
       "      <td>20580.76</td>\n",
       "      <td>19168.55</td>\n",
       "      <td>23137.69</td>\n",
       "    </tr>\n",
       "    <tr>\n",
       "      <th>1499</th>\n",
       "      <td>0.0</td>\n",
       "      <td>0.00</td>\n",
       "      <td>0.00</td>\n",
       "      <td>0.00</td>\n",
       "      <td>0.00</td>\n",
       "      <td>0.00</td>\n",
       "      <td>0.00</td>\n",
       "      <td>0.00</td>\n",
       "      <td>12984.76</td>\n",
       "      <td>19492.43</td>\n",
       "      <td>16813.83</td>\n",
       "      <td>22059.21</td>\n",
       "    </tr>\n",
       "  </tbody>\n",
       "</table>\n",
       "<p>489 rows × 12 columns</p>\n",
       "</div>"
      ],
      "text/plain": [
       "session_date  January  February     March     April       May      June  \\\n",
       "user_id                                                                   \n",
       "1000              0.0      0.00      0.00      0.00      0.00      0.00   \n",
       "1001              0.0      0.00      0.00      0.00      0.00      0.00   \n",
       "1002              0.0      0.00      0.00      0.00      0.00      0.00   \n",
       "1003              0.0      0.00      0.00      0.00      0.00      0.00   \n",
       "1004              0.0      0.00      0.00      0.00   6547.21  20672.82   \n",
       "...               ...       ...       ...       ...       ...       ...   \n",
       "1495              0.0      0.00      0.00      0.00      0.00      0.00   \n",
       "1496              0.0      0.00      0.00      0.00      0.00      0.00   \n",
       "1497              0.0      0.00      0.00      0.00      0.00      0.00   \n",
       "1498              0.0  19822.04  19744.34  19878.86  22462.17  14807.18   \n",
       "1499              0.0      0.00      0.00      0.00      0.00      0.00   \n",
       "\n",
       "session_date      July    August  September   October  November  December  \n",
       "user_id                                                                    \n",
       "1000              0.00      0.00       0.00      0.00      0.00   1901.47  \n",
       "1001              0.00   6919.15   13314.82  22330.49  18504.30  19369.18  \n",
       "1002              0.00      0.00       0.00   6552.01  19345.08  14396.24  \n",
       "1003              0.00      0.00       0.00      0.00      0.00  27044.14  \n",
       "1004          24516.62  27981.74   18852.72  14541.63  21850.78  21389.29  \n",
       "...                ...       ...        ...       ...       ...       ...  \n",
       "1495              0.00      0.00   22981.37  26899.41  24912.78  24097.40  \n",
       "1496              0.00   8605.66   16389.27  14287.36   8547.36  16438.99  \n",
       "1497              0.00      0.00       0.00      0.00      0.00  11106.55  \n",
       "1498          24834.37  20261.89   22827.28  20580.76  19168.55  23137.69  \n",
       "1499              0.00      0.00   12984.76  19492.43  16813.83  22059.21  \n",
       "\n",
       "[489 rows x 12 columns]"
      ]
     },
     "metadata": {},
     "output_type": "display_data"
    }
   ],
   "source": [
    "# Calcula el volumen del tráfico de Internet usado por cada usuario al mes. Guarda el resultado.\n",
    "mb_used_per_user=df_internet.pivot_table(index='user_id',columns=df_internet[\"session_date\"].dt.month,values=\"mb_used\",aggfunc='sum')\n",
    "mb_used_per_user=mb_used_per_user.fillna(0)\n",
    "mb_used_per_user = mb_used_per_user.rename(columns={1:'January',2:'February',3:'March',4:'April',5:'May',6:'June',7:'July',8:'August',9:'September',10:'October',11:'November',12:'December'})\n",
    "display(mb_used_per_user)"
   ]
  },
  {
   "cell_type": "code",
   "execution_count": null,
   "metadata": {
    "id": "FW99ykyf0q1H"
   },
   "outputs": [],
   "source": [
    "# Fusiona los datos de llamadas, minutos, mensajes e Internet con base en user_id y month\n",
    "columns_df_data_per_user=[\"user_id\",\"month\",\"calls\",\"message\",\"calls_minutes\",\"mb_used\"]\n",
    "df_data_per_user=pd.DataFrame(columns=columns_df_data_per_user)\n",
    "month_list=['January','February','March','April','May','June','July','August','September','October','November','December']\n",
    "for i in range(len(mb_used_per_user)):\n",
    "    month_count=0\n",
    "    while month_count < 12:\n",
    "        aux_user_id=mb_used_per_user.index[i]\n",
    "        try:\n",
    "            aux_calls_user=calls_per_user.loc[aux_user_id,month_list[month_count]]\n",
    "        except:\n",
    "            aux_calls_user=0\n",
    "        try:\n",
    "            aux_message_user=message_per_user.loc[aux_user_id,month_list[month_count]]\n",
    "        except:\n",
    "            aux_message_user=0\n",
    "        try:\n",
    "            aux_minutes_user=minutes_per_user.loc[aux_user_id,month_list[month_count]]\n",
    "        except:\n",
    "            aux_minutes_user=0\n",
    "        aux_mb_user=mb_used_per_user.loc[aux_user_id,month_list[month_count]]\n",
    "        aux_row=[aux_user_id,month_list[month_count],aux_calls_user,aux_message_user,aux_minutes_user,aux_mb_user]\n",
    "        df_data_per_user = df_data_per_user.append(pd.Series(aux_row, index=columns_df_data_per_user), ignore_index=True)\n",
    "        month_count +=1\n",
    "        \n",
    "df_data_per_user.head(30)"
   ]
  },
  {
   "cell_type": "code",
   "execution_count": null,
   "metadata": {
    "id": "0dNOXHag0q1H"
   },
   "outputs": [],
   "source": [
    "# Añade la información de la tarifa\n",
    "\n",
    "column_plan=[]\n",
    "column_city=[]\n",
    "for i in range(len(df_data_per_user)):\n",
    "    aux_user_id=df_data_per_user.iloc[i,0]\n",
    "    aux_data_user=df_users[df_users[\"user_id\"]==aux_user_id]\n",
    "    aux_data_user=df_users[df_users[\"user_id\"]==aux_user_id]\n",
    "    column_plan.append(aux_data_user.iloc[0,6])\n",
    "    column_city.append(aux_data_user.iloc[0,4])\n",
    "df_data_per_user.info()\n",
    "print(\"\")\n",
    "df_data_per_user[\"plan\"]=column_plan\n",
    "df_data_per_user[\"city\"]=column_city\n",
    "#Sabemos que usuarios pudieron no haber realizado llamadas,mensajes o uso de datos como lo vemos en el usuario 1010 y 1011\n",
    "df_data_per_user.head(30)"
   ]
  },
  {
   "cell_type": "code",
   "execution_count": null,
   "metadata": {
    "id": "5FGCf_c60q1I"
   },
   "outputs": [],
   "source": [
    "# Calcula el ingreso mensual para cada usuario\n",
    "# Declaramos las variables para cada plan para realizar las operaciones matematicas conservando un mejor orden.\n",
    "#PLAN SURF\n",
    "surf_monthly_payment=df_plans.loc[0,\"usd_monthly_pay\"]\n",
    "surf_monthly_minutes=df_plans.loc[0,\"minutes_included\"]\n",
    "surf_monthly_sms=df_plans.loc[0,\"messages_included\"]\n",
    "surf_monthly_gb=df_plans.loc[0,\"mb_per_month_included\"]\n",
    "surf_extracost_minutes=df_plans.loc[0,\"usd_per_minute\"]\n",
    "surf_extracost_sms=df_plans.loc[0,\"usd_per_message\"]\n",
    "surf_extracost_gb=df_plans.loc[0,\"usd_per_gb\"]\n",
    "#PLAN ULTIMATE\n",
    "ultimate_monthly_payment=df_plans.loc[1,\"usd_monthly_pay\"]\n",
    "ultimate_monthly_minutes=df_plans.loc[1,\"minutes_included\"]\n",
    "ultimate_monthly_sms=df_plans.loc[1,\"messages_included\"]\n",
    "ultimate_monthly_gb=df_plans.loc[1,\"mb_per_month_included\"]\n",
    "ultimate_extracost_minutes=df_plans.loc[1,\"usd_per_minute\"]\n",
    "ultimate_extracost_sms=df_plans.loc[1,\"usd_per_message\"]\n",
    "ultimate_extracost_gb=df_plans.loc[1,\"usd_per_gb\"]\n",
    "#Ahora creamos una lista que contendra la suma de ingresos por cada usuario\n",
    "income_per_user=[]\n",
    "#Comenzamos a recorrer el DataFrame\n",
    "for i in range(len(df_data_per_user)):\n",
    "    #Declararemos las variables que participaran en la suma para que se reseten en cada ciclo\n",
    "    cost_message=0\n",
    "    cost_minutes=0\n",
    "    cost_gb=0\n",
    "    income=0\n",
    "    #Determinamos a que plan pertenece el usuario\n",
    "    if df_data_per_user.iloc[i][\"plan\"]==\"surf\":\n",
    "        #Condicion para realizar el calculo por exceder el limite de mensajes.\n",
    "        if df_data_per_user.iloc[i][\"message\"] > surf_monthly_sms:\n",
    "            cost_message=(df_data_per_user.iloc[i][\"message\"] - surf_monthly_sms)*surf_extracost_sms\n",
    "            \n",
    "        #Condicion para realizar el calculo por exceder el limite de minutos.  \n",
    "        if df_data_per_user.iloc[i][\"calls_minutes\"] > surf_monthly_minutes:\n",
    "            cost_minutes= (df_data_per_user.iloc[i][\"calls_minutes\"] - surf_monthly_minutes)*surf_extracost_minutes\n",
    "            \n",
    "        #Condicion para realizar el calculo por exceder el limite de GB.\n",
    "        #La resta de divide por 1000 ya que los MB los convertimos GB ya que los costos se agregan por GB\n",
    "        if df_data_per_user.iloc[i][\"mb_used\"] > surf_monthly_gb:\n",
    "            cost_gb=((df_data_per_user.iloc[i][\"mb_used\"] - surf_monthly_gb)/1024)*surf_extracost_gb\n",
    "\n",
    "        #Realizamos la suma de costo mensual\n",
    "        income=surf_monthly_payment+cost_message+cost_minutes+cost_gb\n",
    "        #Agregamos ese costo a la lista income_per_user\n",
    "        income_per_user.append(income)\n",
    "        \n",
    "    #Realizamos lo mismo que la condicion anterior pero con el plan Ultimate\n",
    "    elif df_data_per_user.iloc[i][\"plan\"]==\"ultimate\":\n",
    "\n",
    "        #Condicion para realizar el calculo por exceder el limite de mensajes.\n",
    "        if df_data_per_user.iloc[i][\"message\"] > ultimate_monthly_sms:\n",
    "            print(\"entro en message\")\n",
    "            cost_message=(df_data_per_user[i][\"message\"] - ultimate_monthly_sms)*ultimate_extracost_sms\n",
    "           \n",
    "        #Condicion para realizar el calculo por exceder el limite de minutos.  \n",
    "        if df_data_per_user.iloc[i][\"calls_minutes\"] > ultimate_monthly_minutes:\n",
    "            cost_minutes= (df_data_per_user.iloc[i][\"calls_minutes\"] - ultimate_monthly_minutes)*ultimate_extracost_minutes\n",
    "            \n",
    "        #Condicion para realizar el calculo por exceder el limite de GB.\n",
    "        #La resta de divide por 1000 ya que los MB los convertimos GB ya que los costos se agregan por GB\n",
    "        if df_data_per_user.iloc[i][\"mb_used\"] > ultimate_monthly_gb:\n",
    "            cost_gb=((df_data_per_user.iloc[i][\"mb_used\"] - ultimate_monthly_gb)/1024)*ultimate_extracost_gb\n",
    "            \n",
    "        #Realizamos la suma de costo mensual\n",
    "        income=ultimate_monthly_payment+cost_message+cost_minutes+cost_gb\n",
    "        #Agregamos ese costo a la lista income_per_user\n",
    "        income_per_user.append(income)\n",
    "    #Esta condiacion la dejamos en caso de que el dato del plan se Nulo y no entre en ninguna condicion anterior                    \n",
    "    else:\n",
    "        #Realizamos la suma de costo mensual\n",
    "        income=0\n",
    "        #Agregamos ese costo a la lista income_per_user\n",
    "        income_per_user.append(income) \n",
    "    \n",
    "#Fuera del ciclo FOR agregamos la lista de ingresos en el DataFrame como una nueva columna\n",
    "df_data_per_user[\"income_per_user\"]=income_per_user\n",
    "\n",
    "#Revisamos la informacion de la tabla\n",
    "df_data_per_user.info()\n",
    "\n",
    "#Revisamos las primeras filas del DataFrame final.\n",
    "df_data_per_user.head(30)"
   ]
  },
  {
   "cell_type": "markdown",
   "metadata": {
    "id": "-jtyHzJb0q1I"
   },
   "source": [
    "## Estudia el comportamiento de usuario"
   ]
  },
  {
   "cell_type": "markdown",
   "metadata": {
    "id": "vtW4CJEe0q1J"
   },
   "source": [
    "### Llamadas"
   ]
  },
  {
   "cell_type": "code",
   "execution_count": null,
   "metadata": {
    "id": "Jf5v5--k0q1J"
   },
   "outputs": [],
   "source": [
    "# Compara la duración promedio de llamadas por cada plan y por cada mes. Traza un gráfico de barras para visualizarla.\n",
    "plan_user=df_users.groupby(\"user_id\").first()\n",
    "plan_user.drop([\"first_name\",\"last_name\",\"age\",\"city\",\"reg_date\",\"churn_date\"],axis=\"columns\",inplace=True)\n",
    "#Creamos una tabla pivote para tener el pomedio de duracion de la llamadas por mes para cada usuario.\n",
    "pivot_calls_data= df_calls.pivot_table(index='user_id',columns=df_calls[\"call_date\"].dt.month,values='duration',aggfunc='mean')\n",
    "#Reutilizamos la variable plan_user para obtener los planes de cada usuario \n",
    "calls_data=pd.concat([plan_user,pivot_calls_data],axis=1)\n",
    "#El DataFrame calls_data convertimos en el index los meses y las columnas los planes que seran x , y respectivamente en el grafico.\n",
    "calls_data=calls_data.pivot_table(columns=calls_data[\"plan\"])\n",
    "#Los meses estan en numeros por eso cambiaremos a su nombre por su respectivo numero\n",
    "calls_data = calls_data.rename(index={1:'January',2:'February',3:'March',4:'April',5:'May',6:'June',7:'July',8:'August',9:'September',10:'October',11:'November',12:'December',})\n",
    "#Graficamos.\n",
    "calls_data.plot(kind=\"bar\",figsize=(10, 10),title='Calls per plan',grid=True)\n",
    "plt.show()"
   ]
  },
  {
   "cell_type": "code",
   "execution_count": null,
   "metadata": {
    "id": "QoLqW1S_0q1J"
   },
   "outputs": [],
   "source": [
    "# Compara el número de minutos mensuales que necesitan los usuarios de cada plan. Traza un histograma.\n",
    "calls_data.plot(kind=\"hist\",figsize=(10, 10),title='minutes monthly used user',grid=True)\n",
    "plt.show()"
   ]
  },
  {
   "cell_type": "code",
   "execution_count": null,
   "metadata": {
    "id": "oSndbAnt0q1K"
   },
   "outputs": [],
   "source": [
    "# Calcula la media y la varianza de la duración mensual de llamadas.\n",
    "calls_data = calls_data.rename(columns={'surf':'surf_mean','ultimate':'ultimate_mean'})\n",
    "#Creamos una tabla pivote para tener el pomedio de duracion de la llamadas por mes para cada usuario.\n",
    "pivot_var_calls_data= df_calls.pivot_table(index='user_id',columns=df_calls[\"call_date\"].dt.month,values='duration',aggfunc=\"sum\")\n",
    "#Reutilizamos la variable plan_user para obtener los planes de cada usuario \n",
    "var=pd.concat([plan_user,pivot_var_calls_data],axis=1)\n",
    "var=var.pivot_table(columns=var[\"plan\"])\n",
    "#Los meses estan en numeros por eso cambiaremos a su nombre por su respectivo numero\n",
    "surf_var=np.var(var[\"surf\"])\n",
    "ultimate_var=np.var(var[\"ultimate\"])\n",
    "surf_mean=np.mean(calls_data[\"surf_mean\"])\n",
    "ultimate_mean=np.mean(calls_data[\"ultimate_mean\"])\n",
    "#df_december[\"income_per_user\"]=income_per_user\n",
    "var_mean=pd.DataFrame(data={'surf':[surf_mean,surf_var],\"ultimate\":[ultimate_mean,ultimate_var]},index=[\"mean\",\"var\"])\n",
    "print(var_mean)"
   ]
  },
  {
   "cell_type": "code",
   "execution_count": null,
   "metadata": {
    "id": "nZzoRUKc0q1K"
   },
   "outputs": [],
   "source": [
    "# Traza un diagrama de caja para visualizar la distribución de la duración mensual de llamadas\n",
    "var_mean.plot(kind=\"box\",figsize=(10, 10),title='Duration of calls: distr of surf and ultimate',grid=True)"
   ]
  },
  {
   "cell_type": "markdown",
   "metadata": {
    "id": "8idKy8Wh0q1L"
   },
   "source": [
    "### Mensajes"
   ]
  },
  {
   "cell_type": "code",
   "execution_count": null,
   "metadata": {
    "id": "NXLxiTit0q1L"
   },
   "outputs": [],
   "source": [
    "# Comprara el número de mensajes que tienden a enviar cada mes los usuarios de cada plan\n",
    "#Creamos una tabla pivote para tener la cantidad de mensajes por mes para cada usuario.\n",
    "pivot_messages_data= df_messages.pivot_table(index='user_id',columns=df_messages[\"message_date\"].dt.month,values=\"id\",aggfunc='count')\n",
    "#Reutilizamos la variable plan_user para obtener los planes de cada usuario \n",
    "messages_data=pd.concat([plan_user,pivot_messages_data],axis=1)\n",
    "#El DataFrame calls_data convertimos en el index los meses y las columnas los planes que seran x , y respectivamente en el grafico.\n",
    "messages_data=messages_data.pivot_table(columns=messages_data[\"plan\"])\n",
    "print(messages_data)\n",
    "#Los meses estan en numeros por eso cambiaremos a su nombre por su respectivo numero\n",
    "messages_data = messages_data.rename(index={1:'January',2:'February',3:'March',4:'April',5:'May',6:'June',7:'July',8:'August',9:'September',10:'October',11:'November',12:'December',})\n",
    "#Graficamos.\n",
    "messages_data.plot(kind=\"bar\",figsize=(10, 10),title='Messages per plan',grid=True)\n",
    "plt.show()"
   ]
  },
  {
   "cell_type": "code",
   "execution_count": null,
   "metadata": {
    "id": "GRI_R7xF0q1L"
   },
   "outputs": [],
   "source": [
    "# Compara la cantidad de tráfico de Internet consumido por usuarios por plan\n",
    "#Creamos una tabla pivote para tener el pomedio de mb usados por mes para cada usuario.\n",
    "pivot_internet_data= df_internet.pivot_table(index='user_id',columns=df_internet[\"session_date\"].dt.month,values=\"mb_used\",aggfunc='mean')\n",
    "#Reutilizamos la variable plan_user para obtener los planes de cada usuario \n",
    "internet_data=pd.concat([plan_user,pivot_internet_data],axis=1)\n",
    "#El DataFrame calls_data convertimos en el index los meses y las columnas los planes que seran x , y respectivamente en el grafico.\n",
    "internet_data=internet_data.pivot_table(columns=internet_data[\"plan\"])\n",
    "print(internet_data)\n",
    "#Los meses estan en numeros por eso cambiaremos a su nombre por su respectivo numero\n",
    "internet_data = internet_data.rename(index={1:'January',2:'February',3:'March',4:'April',5:'May',6:'June',7:'July',8:'August',9:'September',10:'October',11:'November',12:'December',})\n",
    "#Graficamos.\n",
    "internet_data.plot(kind=\"bar\",figsize=(10, 10),title='Mb used per plan',grid=True)\n",
    "plt.show()"
   ]
  },
  {
   "cell_type": "markdown",
   "metadata": {
    "id": "42YSypXz0q1M"
   },
   "source": [
    "### Internet"
   ]
  },
  {
   "cell_type": "code",
   "execution_count": null,
   "metadata": {
    "id": "lSuKPtjh0q1M"
   },
   "outputs": [],
   "source": [
    "# Compara la cantidad de tráfico de Internet consumido por usuarios por plan. Traza un histograma.\n",
    "internet_data.plot(kind=\"hist\",figsize=(10, 10),title='Histogram: Mb used per plan',grid=True)\n",
    "plt.show()"
   ]
  },
  {
   "cell_type": "code",
   "execution_count": null,
   "metadata": {
    "id": "wnh8jYXi0q1N"
   },
   "outputs": [],
   "source": [
    "# Calcula la media y la varianza de la duración mensual de llamadas.\n",
    "internet_data = calls_data.rename(columns={'surf':'surf_mean','ultimate':'ultimate_mean'})\n",
    "#Creamos una tabla pivote para tener el pomedio de duracion de la llamadas por mes para cada usuario.\n",
    "pivot_var_internet_data= df_internet.pivot_table(index='user_id',columns=df_internet[\"session_date\"].dt.month,values='mb_used',aggfunc=\"sum\")\n",
    "#Reutilizamos la variable plan_user para obtener los planes de cada usuario \n",
    "var=pd.concat([plan_user,pivot_var_calls_data],axis=1)\n",
    "var=var.pivot_table(columns=var[\"plan\"])\n",
    "#Los meses estan en numeros por eso cambiaremos a su nombre por su respectivo numero\n",
    "internet_surf_var=np.var(var[\"surf\"])\n",
    "internet_ultimate_var=np.var(var[\"ultimate\"])\n",
    "internet_surf_mean=np.mean(internet_data[\"surf_mean\"])\n",
    "internet_ultimate_mean=np.mean(internet_data[\"ultimate_mean\"])\n",
    "\n",
    "internet_var_mean=pd.DataFrame(data={'surf':[internet_surf_mean,internet_surf_var],\"ultimate\":[internet_ultimate_mean,internet_ultimate_var]},index=[\"mean\",\"var\"])\n",
    "print(internet_var_mean)"
   ]
  },
  {
   "cell_type": "code",
   "execution_count": null,
   "metadata": {
    "id": "5VlyJ9ry0q1N"
   },
   "outputs": [],
   "source": [
    "# Traza un diagrama de caja para visualizar la distribución mensual del trafico de internet\n",
    "internet_var_mean.plot(kind=\"box\",figsize=(10, 10),title='Mb used: distr of surf and ultimate',grid=True)"
   ]
  },
  {
   "cell_type": "markdown",
   "metadata": {
    "id": "UN9zwuMP0q1N"
   },
   "source": [
    "El Plan ultimate presenta un mayor trafico de internet"
   ]
  },
  {
   "cell_type": "markdown",
   "metadata": {
    "id": "tCijq3260q1N"
   },
   "source": [
    "## Ingreso"
   ]
  },
  {
   "cell_type": "markdown",
   "metadata": {
    "id": "9nq5IAcy0q1O"
   },
   "source": [
    "[Del mismo modo que has estudiado el comportamiento de los usuarios, describe estadísticamente los ingresos de los planes.]"
   ]
  },
  {
   "cell_type": "code",
   "execution_count": null,
   "metadata": {
    "id": "tz-dq_V00q1O"
   },
   "outputs": [],
   "source": [
    "# Compara la cantidad de ingresos mensuales por usuarios por plan\n",
    "# Reutilizamos el DataFrame income_data_per_user para ver el comportamiento de los ingresos mensuales de usuarios por planes\n",
    "#Creamos una tabla pivote para tener el pomedio de mb usados por mes para cada usuario.\n",
    "income_data_per_user= df_data_per_user.pivot_table(index='month',columns=\"plan\",values=\"income_per_user\",aggfunc='sum')\n",
    "\n",
    "#Graficamos.\n",
    "income_data_per_user.plot(kind=\"bar\",figsize=(10, 10),title='Incomes per plan',grid=True)\n",
    "plt.show()"
   ]
  },
  {
   "cell_type": "code",
   "execution_count": null,
   "metadata": {
    "id": "0Y1v8ZUz0q1P"
   },
   "outputs": [],
   "source": [
    "# Compara la cantidad de tráfico de Internet consumido por usuarios por plan. Traza un histograma.\n",
    "income_data_per_user.plot(kind=\"hist\",figsize=(10, 10),title='Histogram:Incomes per plan',grid=True)\n",
    "plt.show()"
   ]
  },
  {
   "cell_type": "code",
   "execution_count": null,
   "metadata": {
    "id": "bYmwxyVh0q1P"
   },
   "outputs": [],
   "source": [
    "# Calcula la media y la varianza de la duración mensual de llamadas.\n",
    "income_mean_data_per_user= df_data_per_user.pivot_table(index='month',columns=\"plan\",values=\"income_per_user\",aggfunc='sum')\n",
    "income_data_mean_per_user = calls_data.rename(columns={'surf':'surf_mean','ultimate':'ultimate_mean'})\n",
    "#Creamos una tabla pivote para tener el pomedio de duracion de la llamadas por mes para cada usuario.\n",
    "pivot_var_income_data= df_data_per_user.pivot_table(index='month',columns=\"plan\",values=\"income_per_user\",aggfunc='sum')\n",
    "#Los meses estan en numeros por eso cambiaremos a su nombre por su respectivo numero\n",
    "income_surf_var=np.var(pivot_var_income_data[\"surf\"])\n",
    "income_ultimate_var=np.var(pivot_var_income_data[\"ultimate\"])\n",
    "income_surf_mean=np.mean(income_data_mean_per_user[\"surf_mean\"])\n",
    "income_ultimate_mean=np.mean(income_data_mean_per_user[\"ultimate_mean\"])\n",
    "#df_december[\"income_per_user\"]=income_per_user\n",
    "income_var_mean=pd.DataFrame(data={'surf':[income_surf_mean,income_surf_var],\"ultimate\":[income_ultimate_mean,income_ultimate_var]},index=[\"mean\",\"var\"])\n",
    "print(income_var_mean)\n",
    "# Traza un diagrama de caja para visualizar la distribución de la duración mensual de llamadas\n",
    "income_var_mean.plot(kind=\"box\",figsize=(10, 10),title='Incomes per plan: distr of surf and ultimate',grid=True)"
   ]
  },
  {
   "cell_type": "markdown",
   "metadata": {
    "id": "KAFidcXZ0q1P"
   },
   "source": [
    "Podemos observar que en comparacion el plan que produce una mayor cantidad de ingresos es el plan User"
   ]
  },
  {
   "cell_type": "markdown",
   "metadata": {
    "id": "ajJ7VKeI0q1Q"
   },
   "source": [
    "## Prueba las hipótesis estadísticas"
   ]
  },
  {
   "cell_type": "code",
   "execution_count": null,
   "metadata": {
    "id": "nFoPNlPq0q1R"
   },
   "outputs": [],
   "source": [
    "# Prueba las hipótesis\n",
    "\n",
    "alpha=0.005\n",
    "income_test=df_data_per_user.pivot_table(index=\"user_id\",columns=\"plan\",values=\"income_per_user\",aggfunc=\"mean\")\n",
    "income_test=income_test.fillna(0)\n",
    "income_surf=income_test[\"surf\"]\n",
    "income_ultimate=income_test[\"ultimate\"]\n",
    "print(income_surf)\n",
    "print(income_ultimate)\n",
    "# realizar una prueba\n",
    "results = st.ttest_ind(income_surf,income_ultimate,equal_var = False)\n",
    "# imprimir el valor p resultante\n",
    "print('valor p: ', results.pvalue)\n",
    "\n",
    "# comparar el valor p con el umbral\n",
    "\n",
    "if (results.pvalue < alpha):\n",
    "    print(\"Rechazamos la hipótesis nula\")\n",
    "else:\n",
    "    print(\"No podemos rechazar la hipótesis nula\") "
   ]
  },
  {
   "cell_type": "code",
   "execution_count": null,
   "metadata": {
    "id": "Cqcj7wrZ0q1S"
   },
   "outputs": [],
   "source": [
    "# Prueba las hipótesis\n",
    "#New York-Newark-Jersey City, NY-NJ-PA MSA\n",
    "# Prueba las hipótesis\n",
    "\n",
    "alpha=0.005\n",
    "income_test=df_data_per_user.pivot_table(index=\"user_id\",columns=\"city\",values=\"income_per_user\",aggfunc=\"mean\")\n",
    "income_test=income_test.fillna(0)\n",
    "income_NY_NJ=income_test[\"New York-Newark-Jersey City, NY-NJ-PA MSA\"]\n",
    "\n",
    "#Borramos la columna que no queremos que sea co\n",
    "income_test.drop(['New York-Newark-Jersey City, NY-NJ-PA MSA'], axis=1)\n",
    "income_other_cities=income_test\n",
    "# realizar una prueba\n",
    "results = st.ttest_ind(income_surf,income_ultimate,equal_var = False)\n",
    "# imprimir el valor p resultante\n",
    "print('valor p: ', results.pvalue)\n",
    "\n",
    "# comparar el valor p con el umbral\n",
    "\n",
    "if (results.pvalue < alpha):\n",
    "    print(\"Rechazamos la hipótesis nula\")\n",
    "else:\n",
    "    print(\"No podemos rechazar la hipótesis nula\") "
   ]
  },
  {
   "cell_type": "markdown",
   "metadata": {
    "id": "bbTR8UQO0q1T"
   },
   "source": [
    "## Conclusión general\n",
    "\n",
    "Podemos determinar que la utilidad que los usuarios dan sus planes son muy similares segun los graficos de consumo de internet, llamadas y mensajes, las diferencias son demasiados leves en las comparaciones, pero cuando hablamos de ingresos, podemos observar que el plan Surf supera por mucho al plan Ultimate, esto se debe a:\n",
    "\n",
    "*La cantidad de usuarios en el plan surf supera a la cantidad de usuarios del plan ultimate.\n",
    "\n",
    "*El plan surf al tener menos llamandas, mensajes y mb disponibles en comparacion al plan ultimate los usuarios tienden a sobrepasar los limites de este teniendo que pagar las tarifas extras del plan surf."
   ]
  }
 ],
 "metadata": {
  "ExecuteTimeLog": [
   {
    "duration": 828,
    "start_time": "2021-11-16T09:21:11.304Z"
   },
   {
    "duration": 893,
    "start_time": "2021-11-16T09:21:17.728Z"
   },
   {
    "duration": 1150,
    "start_time": "2021-11-16T09:21:29.568Z"
   },
   {
    "duration": 3,
    "start_time": "2021-11-16T09:24:14.495Z"
   },
   {
    "duration": 120,
    "start_time": "2021-11-16T09:24:46.630Z"
   },
   {
    "duration": 3,
    "start_time": "2021-11-16T09:28:27.882Z"
   },
   {
    "duration": 4,
    "start_time": "2021-11-16T09:29:54.281Z"
   },
   {
    "duration": 3,
    "start_time": "2021-11-16T09:30:45.936Z"
   },
   {
    "duration": 4,
    "start_time": "2021-11-16T09:31:06.300Z"
   },
   {
    "duration": 113,
    "start_time": "2021-11-16T09:31:37.208Z"
   },
   {
    "duration": 143,
    "start_time": "2021-11-16T09:31:48.656Z"
   },
   {
    "duration": 98,
    "start_time": "2021-11-16T09:31:55.678Z"
   },
   {
    "duration": 3,
    "start_time": "2021-11-16T09:32:08.535Z"
   },
   {
    "duration": 111,
    "start_time": "2021-11-16T09:32:10.120Z"
   },
   {
    "duration": 3,
    "start_time": "2021-11-16T09:32:15.732Z"
   },
   {
    "duration": 4,
    "start_time": "2021-11-16T09:32:29.423Z"
   },
   {
    "duration": 3,
    "start_time": "2021-11-16T10:03:03.074Z"
   },
   {
    "duration": 3,
    "start_time": "2021-11-16T10:10:01.288Z"
   },
   {
    "duration": 3,
    "start_time": "2021-11-16T10:10:46.923Z"
   },
   {
    "duration": 121,
    "start_time": "2021-11-16T10:37:46.494Z"
   },
   {
    "duration": 125,
    "start_time": "2021-11-16T10:38:20.632Z"
   },
   {
    "duration": 112,
    "start_time": "2021-11-16T10:46:53.001Z"
   },
   {
    "duration": 110,
    "start_time": "2021-11-16T10:48:25.775Z"
   },
   {
    "duration": 3,
    "start_time": "2021-11-16T10:50:18.720Z"
   },
   {
    "duration": 4,
    "start_time": "2021-11-16T10:50:37.649Z"
   },
   {
    "duration": 2,
    "start_time": "2021-11-16T10:50:51.884Z"
   },
   {
    "duration": 3,
    "start_time": "2021-11-16T10:51:56.237Z"
   },
   {
    "duration": 101,
    "start_time": "2021-11-16T10:53:13.791Z"
   },
   {
    "duration": 3,
    "start_time": "2021-11-16T10:55:59.186Z"
   },
   {
    "duration": 3,
    "start_time": "2021-11-16T10:56:10.751Z"
   },
   {
    "duration": 3,
    "start_time": "2021-11-16T10:56:49.038Z"
   },
   {
    "duration": 3,
    "start_time": "2021-11-16T10:56:49.174Z"
   },
   {
    "duration": 4,
    "start_time": "2021-11-16T10:56:49.414Z"
   },
   {
    "duration": 3,
    "start_time": "2021-11-16T10:56:49.680Z"
   },
   {
    "duration": 3,
    "start_time": "2021-11-16T10:56:50.370Z"
   },
   {
    "duration": 114,
    "start_time": "2021-11-16T10:59:34.518Z"
   },
   {
    "duration": 3,
    "start_time": "2021-11-16T11:01:41.201Z"
   },
   {
    "duration": 116,
    "start_time": "2021-11-16T11:01:48.754Z"
   },
   {
    "duration": 3,
    "start_time": "2021-11-16T11:02:16.685Z"
   },
   {
    "duration": 3,
    "start_time": "2021-11-16T11:02:19.479Z"
   },
   {
    "duration": 3,
    "start_time": "2021-11-16T11:02:47.067Z"
   },
   {
    "duration": 3,
    "start_time": "2021-11-16T11:02:49.353Z"
   },
   {
    "duration": 3,
    "start_time": "2021-11-16T11:03:07.835Z"
   },
   {
    "duration": 3,
    "start_time": "2021-11-16T11:03:07.953Z"
   },
   {
    "duration": 112,
    "start_time": "2021-11-16T11:07:52.072Z"
   },
   {
    "duration": 187,
    "start_time": "2021-11-16T11:09:23.468Z"
   },
   {
    "duration": 4,
    "start_time": "2021-11-16T11:10:01.455Z"
   },
   {
    "duration": 3,
    "start_time": "2021-11-16T11:10:05.069Z"
   },
   {
    "duration": 4,
    "start_time": "2021-11-16T11:10:13.376Z"
   },
   {
    "duration": 3,
    "start_time": "2021-11-16T11:10:14.434Z"
   },
   {
    "duration": 3,
    "start_time": "2021-11-16T11:10:22.853Z"
   },
   {
    "duration": 4,
    "start_time": "2021-11-16T11:27:29.279Z"
   },
   {
    "duration": 4,
    "start_time": "2021-11-16T11:29:08.919Z"
   },
   {
    "duration": 118,
    "start_time": "2021-11-16T11:29:46.703Z"
   },
   {
    "duration": 437,
    "start_time": "2021-11-16T11:36:02.181Z"
   },
   {
    "duration": 157,
    "start_time": "2021-11-16T11:36:14.388Z"
   },
   {
    "duration": 207,
    "start_time": "2021-11-16T11:47:15.898Z"
   },
   {
    "duration": 3,
    "start_time": "2021-11-16T11:53:52.092Z"
   },
   {
    "duration": 3,
    "start_time": "2021-11-16T11:53:52.236Z"
   },
   {
    "duration": 3,
    "start_time": "2021-11-16T11:59:12.005Z"
   },
   {
    "duration": 112,
    "start_time": "2021-11-16T12:00:33.446Z"
   },
   {
    "duration": 3,
    "start_time": "2021-11-16T12:02:14.453Z"
   },
   {
    "duration": 3,
    "start_time": "2021-11-16T12:02:39.512Z"
   },
   {
    "duration": 106,
    "start_time": "2021-11-16T12:03:03.460Z"
   },
   {
    "duration": 3,
    "start_time": "2021-11-17T20:37:21.139Z"
   },
   {
    "duration": 3,
    "start_time": "2021-11-17T20:37:22.229Z"
   },
   {
    "duration": 3,
    "start_time": "2021-11-17T20:38:38.806Z"
   },
   {
    "duration": 3,
    "start_time": "2021-11-17T20:38:41.958Z"
   },
   {
    "duration": 3,
    "start_time": "2021-11-17T20:43:46.551Z"
   },
   {
    "duration": 4,
    "start_time": "2021-11-17T20:58:21.835Z"
   },
   {
    "duration": 3,
    "start_time": "2021-11-17T20:59:21.872Z"
   },
   {
    "duration": 4,
    "start_time": "2021-11-17T20:59:45.352Z"
   },
   {
    "duration": 4,
    "start_time": "2021-11-17T20:59:49.646Z"
   },
   {
    "duration": 159,
    "start_time": "2021-11-17T21:02:26.949Z"
   },
   {
    "duration": 3,
    "start_time": "2021-11-17T21:03:53.461Z"
   },
   {
    "duration": 3,
    "start_time": "2021-11-17T21:03:53.694Z"
   },
   {
    "duration": 3,
    "start_time": "2021-11-17T21:05:28.145Z"
   },
   {
    "duration": 116,
    "start_time": "2021-11-17T21:05:57.787Z"
   },
   {
    "duration": 3,
    "start_time": "2021-11-17T21:06:37.993Z"
   },
   {
    "duration": 3,
    "start_time": "2021-11-17T21:06:38.261Z"
   },
   {
    "duration": 3,
    "start_time": "2021-11-17T21:11:54.358Z"
   },
   {
    "duration": 3,
    "start_time": "2021-11-17T21:12:43.846Z"
   },
   {
    "duration": 4,
    "start_time": "2021-11-17T21:13:08.773Z"
   },
   {
    "duration": 3,
    "start_time": "2021-11-17T21:14:44.441Z"
   },
   {
    "duration": 3,
    "start_time": "2021-11-17T21:15:42.059Z"
   },
   {
    "duration": 4,
    "start_time": "2021-11-17T21:15:51.995Z"
   },
   {
    "duration": 3,
    "start_time": "2021-11-17T21:15:53.923Z"
   },
   {
    "duration": 3,
    "start_time": "2021-11-17T21:15:55.282Z"
   },
   {
    "duration": 3,
    "start_time": "2021-11-17T21:16:28.492Z"
   },
   {
    "duration": 3,
    "start_time": "2021-11-17T21:16:32.603Z"
   },
   {
    "duration": 3,
    "start_time": "2021-11-17T21:17:06.941Z"
   },
   {
    "duration": 98,
    "start_time": "2021-11-17T21:18:05.733Z"
   },
   {
    "duration": 4,
    "start_time": "2021-11-17T21:21:35.255Z"
   },
   {
    "duration": 3,
    "start_time": "2021-11-17T21:21:37.804Z"
   },
   {
    "duration": 4,
    "start_time": "2021-11-17T21:23:06.071Z"
   },
   {
    "duration": 3,
    "start_time": "2021-11-17T21:23:24.799Z"
   },
   {
    "duration": 3,
    "start_time": "2021-11-17T21:23:32.591Z"
   },
   {
    "duration": 98,
    "start_time": "2021-11-17T21:28:31.559Z"
   },
   {
    "duration": 3,
    "start_time": "2021-11-17T21:28:45.448Z"
   },
   {
    "duration": 3,
    "start_time": "2021-11-17T21:29:17.303Z"
   },
   {
    "duration": 3,
    "start_time": "2021-11-17T21:29:29.617Z"
   },
   {
    "duration": 3,
    "start_time": "2021-11-17T21:29:32.681Z"
   },
   {
    "duration": 3,
    "start_time": "2021-11-17T21:36:11.474Z"
   },
   {
    "duration": 3,
    "start_time": "2021-11-17T21:36:14.791Z"
   },
   {
    "duration": 3,
    "start_time": "2021-11-17T21:36:53.943Z"
   },
   {
    "duration": 3,
    "start_time": "2021-11-17T21:36:56.165Z"
   },
   {
    "duration": 4,
    "start_time": "2021-11-17T21:37:16.590Z"
   },
   {
    "duration": 3,
    "start_time": "2021-11-17T21:37:22.702Z"
   },
   {
    "duration": 4,
    "start_time": "2021-11-17T21:38:03.479Z"
   },
   {
    "duration": 3,
    "start_time": "2021-11-17T21:38:08.601Z"
   },
   {
    "duration": 3,
    "start_time": "2021-11-17T21:38:12.928Z"
   },
   {
    "duration": 3,
    "start_time": "2021-11-17T21:38:48.896Z"
   },
   {
    "duration": 2,
    "start_time": "2021-11-17T21:38:49.171Z"
   },
   {
    "duration": 4,
    "start_time": "2021-11-17T21:39:57.889Z"
   },
   {
    "duration": 3,
    "start_time": "2021-11-17T21:39:58.057Z"
   },
   {
    "duration": 3,
    "start_time": "2021-11-17T21:41:20.108Z"
   },
   {
    "duration": 3,
    "start_time": "2021-11-17T21:41:20.629Z"
   },
   {
    "duration": 3,
    "start_time": "2021-11-17T21:42:49.136Z"
   },
   {
    "duration": 3,
    "start_time": "2021-11-17T21:43:15.137Z"
   },
   {
    "duration": 4,
    "start_time": "2021-11-17T21:43:16.766Z"
   },
   {
    "duration": 4,
    "start_time": "2021-11-17T21:43:31.711Z"
   },
   {
    "duration": 3,
    "start_time": "2021-11-17T21:43:36.312Z"
   },
   {
    "duration": 4,
    "start_time": "2021-11-17T21:45:08.825Z"
   },
   {
    "duration": 4,
    "start_time": "2021-11-17T21:45:10.119Z"
   },
   {
    "duration": 4,
    "start_time": "2021-11-17T21:45:13.748Z"
   },
   {
    "duration": 3,
    "start_time": "2021-11-17T21:45:22.219Z"
   },
   {
    "duration": 3,
    "start_time": "2021-11-17T21:45:33.412Z"
   },
   {
    "duration": 2,
    "start_time": "2021-11-17T21:46:01.885Z"
   },
   {
    "duration": 3,
    "start_time": "2021-11-17T21:46:03.628Z"
   },
   {
    "duration": 107,
    "start_time": "2021-11-17T21:47:32.512Z"
   },
   {
    "duration": 103,
    "start_time": "2021-11-17T21:50:36.243Z"
   },
   {
    "duration": 3,
    "start_time": "2021-11-18T06:28:31.440Z"
   },
   {
    "duration": 3,
    "start_time": "2021-11-18T06:29:00.168Z"
   },
   {
    "duration": 3,
    "start_time": "2021-11-18T06:31:27.008Z"
   },
   {
    "duration": 2,
    "start_time": "2021-11-18T06:35:34.288Z"
   },
   {
    "duration": 2,
    "start_time": "2021-11-18T06:38:04.527Z"
   }
  ],
  "colab": {
   "provenance": []
  },
  "kernelspec": {
   "display_name": "Python 3 (ipykernel)",
   "language": "python",
   "name": "python3"
  },
  "language_info": {
   "codemirror_mode": {
    "name": "ipython",
    "version": 3
   },
   "file_extension": ".py",
   "mimetype": "text/x-python",
   "name": "python",
   "nbconvert_exporter": "python",
   "pygments_lexer": "ipython3",
   "version": "3.9.19"
  },
  "toc": {
   "base_numbering": 1,
   "nav_menu": {},
   "number_sections": true,
   "sideBar": true,
   "skip_h1_title": false,
   "title_cell": "Table of Contents",
   "title_sidebar": "Contents",
   "toc_cell": false,
   "toc_position": {},
   "toc_section_display": true,
   "toc_window_display": true
  }
 },
 "nbformat": 4,
 "nbformat_minor": 1
}
